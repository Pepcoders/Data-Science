{
  "nbformat": 4,
  "nbformat_minor": 0,
  "metadata": {
    "colab": {
      "name": "boston",
      "provenance": []
    },
    "kernelspec": {
      "name": "python3",
      "display_name": "Python 3"
    },
    "language_info": {
      "name": "python"
    }
  },
  "cells": [
    {
      "cell_type": "code",
      "metadata": {
        "id": "aIl2l3DydvVP"
      },
      "source": [
        "import pandas as pd\n",
        "\n",
        "df=pd.read_csv('Boston.csv')"
      ],
      "execution_count": null,
      "outputs": []
    },
    {
      "cell_type": "code",
      "metadata": {
        "colab": {
          "base_uri": "https://localhost:8080/",
          "height": 204
        },
        "id": "t0myGRlqd4ZG",
        "outputId": "d9ec2cbd-1e49-409a-b2b1-ab2309dd4c76"
      },
      "source": [
        "df.head()"
      ],
      "execution_count": null,
      "outputs": [
        {
          "output_type": "execute_result",
          "data": {
            "text/html": [
              "<div>\n",
              "<style scoped>\n",
              "    .dataframe tbody tr th:only-of-type {\n",
              "        vertical-align: middle;\n",
              "    }\n",
              "\n",
              "    .dataframe tbody tr th {\n",
              "        vertical-align: top;\n",
              "    }\n",
              "\n",
              "    .dataframe thead th {\n",
              "        text-align: right;\n",
              "    }\n",
              "</style>\n",
              "<table border=\"1\" class=\"dataframe\">\n",
              "  <thead>\n",
              "    <tr style=\"text-align: right;\">\n",
              "      <th></th>\n",
              "      <th>Unnamed: 0</th>\n",
              "      <th>crim</th>\n",
              "      <th>zn</th>\n",
              "      <th>indus</th>\n",
              "      <th>chas</th>\n",
              "      <th>nox</th>\n",
              "      <th>rm</th>\n",
              "      <th>age</th>\n",
              "      <th>dis</th>\n",
              "      <th>rad</th>\n",
              "      <th>tax</th>\n",
              "      <th>ptratio</th>\n",
              "      <th>black</th>\n",
              "      <th>lstat</th>\n",
              "      <th>medv</th>\n",
              "    </tr>\n",
              "  </thead>\n",
              "  <tbody>\n",
              "    <tr>\n",
              "      <th>0</th>\n",
              "      <td>1</td>\n",
              "      <td>0.00632</td>\n",
              "      <td>18.0</td>\n",
              "      <td>2.31</td>\n",
              "      <td>0</td>\n",
              "      <td>0.538</td>\n",
              "      <td>6.575</td>\n",
              "      <td>65.2</td>\n",
              "      <td>4.0900</td>\n",
              "      <td>1</td>\n",
              "      <td>296</td>\n",
              "      <td>15.3</td>\n",
              "      <td>396.90</td>\n",
              "      <td>4.98</td>\n",
              "      <td>24.0</td>\n",
              "    </tr>\n",
              "    <tr>\n",
              "      <th>1</th>\n",
              "      <td>2</td>\n",
              "      <td>0.02731</td>\n",
              "      <td>0.0</td>\n",
              "      <td>7.07</td>\n",
              "      <td>0</td>\n",
              "      <td>0.469</td>\n",
              "      <td>6.421</td>\n",
              "      <td>78.9</td>\n",
              "      <td>4.9671</td>\n",
              "      <td>2</td>\n",
              "      <td>242</td>\n",
              "      <td>17.8</td>\n",
              "      <td>396.90</td>\n",
              "      <td>9.14</td>\n",
              "      <td>21.6</td>\n",
              "    </tr>\n",
              "    <tr>\n",
              "      <th>2</th>\n",
              "      <td>3</td>\n",
              "      <td>0.02729</td>\n",
              "      <td>0.0</td>\n",
              "      <td>7.07</td>\n",
              "      <td>0</td>\n",
              "      <td>0.469</td>\n",
              "      <td>7.185</td>\n",
              "      <td>61.1</td>\n",
              "      <td>4.9671</td>\n",
              "      <td>2</td>\n",
              "      <td>242</td>\n",
              "      <td>17.8</td>\n",
              "      <td>392.83</td>\n",
              "      <td>4.03</td>\n",
              "      <td>34.7</td>\n",
              "    </tr>\n",
              "    <tr>\n",
              "      <th>3</th>\n",
              "      <td>4</td>\n",
              "      <td>0.03237</td>\n",
              "      <td>0.0</td>\n",
              "      <td>2.18</td>\n",
              "      <td>0</td>\n",
              "      <td>0.458</td>\n",
              "      <td>6.998</td>\n",
              "      <td>45.8</td>\n",
              "      <td>6.0622</td>\n",
              "      <td>3</td>\n",
              "      <td>222</td>\n",
              "      <td>18.7</td>\n",
              "      <td>394.63</td>\n",
              "      <td>2.94</td>\n",
              "      <td>33.4</td>\n",
              "    </tr>\n",
              "    <tr>\n",
              "      <th>4</th>\n",
              "      <td>5</td>\n",
              "      <td>0.06905</td>\n",
              "      <td>0.0</td>\n",
              "      <td>2.18</td>\n",
              "      <td>0</td>\n",
              "      <td>0.458</td>\n",
              "      <td>7.147</td>\n",
              "      <td>54.2</td>\n",
              "      <td>6.0622</td>\n",
              "      <td>3</td>\n",
              "      <td>222</td>\n",
              "      <td>18.7</td>\n",
              "      <td>396.90</td>\n",
              "      <td>5.33</td>\n",
              "      <td>36.2</td>\n",
              "    </tr>\n",
              "  </tbody>\n",
              "</table>\n",
              "</div>"
            ],
            "text/plain": [
              "   Unnamed: 0     crim    zn  indus  chas  ...  tax  ptratio   black  lstat  medv\n",
              "0           1  0.00632  18.0   2.31     0  ...  296     15.3  396.90   4.98  24.0\n",
              "1           2  0.02731   0.0   7.07     0  ...  242     17.8  396.90   9.14  21.6\n",
              "2           3  0.02729   0.0   7.07     0  ...  242     17.8  392.83   4.03  34.7\n",
              "3           4  0.03237   0.0   2.18     0  ...  222     18.7  394.63   2.94  33.4\n",
              "4           5  0.06905   0.0   2.18     0  ...  222     18.7  396.90   5.33  36.2\n",
              "\n",
              "[5 rows x 15 columns]"
            ]
          },
          "metadata": {},
          "execution_count": 17
        }
      ]
    },
    {
      "cell_type": "code",
      "metadata": {
        "colab": {
          "base_uri": "https://localhost:8080/",
          "height": 419
        },
        "id": "rShxNz8Fd6g5",
        "outputId": "f8ff4d8c-9e62-4cf9-b02e-03d7c677a4be"
      },
      "source": [
        "df"
      ],
      "execution_count": null,
      "outputs": [
        {
          "output_type": "execute_result",
          "data": {
            "text/html": [
              "<div>\n",
              "<style scoped>\n",
              "    .dataframe tbody tr th:only-of-type {\n",
              "        vertical-align: middle;\n",
              "    }\n",
              "\n",
              "    .dataframe tbody tr th {\n",
              "        vertical-align: top;\n",
              "    }\n",
              "\n",
              "    .dataframe thead th {\n",
              "        text-align: right;\n",
              "    }\n",
              "</style>\n",
              "<table border=\"1\" class=\"dataframe\">\n",
              "  <thead>\n",
              "    <tr style=\"text-align: right;\">\n",
              "      <th></th>\n",
              "      <th>Unnamed: 0</th>\n",
              "      <th>crim</th>\n",
              "      <th>zn</th>\n",
              "      <th>indus</th>\n",
              "      <th>chas</th>\n",
              "      <th>nox</th>\n",
              "      <th>rm</th>\n",
              "      <th>age</th>\n",
              "      <th>dis</th>\n",
              "      <th>rad</th>\n",
              "      <th>tax</th>\n",
              "      <th>ptratio</th>\n",
              "      <th>black</th>\n",
              "      <th>lstat</th>\n",
              "      <th>medv</th>\n",
              "    </tr>\n",
              "  </thead>\n",
              "  <tbody>\n",
              "    <tr>\n",
              "      <th>0</th>\n",
              "      <td>1</td>\n",
              "      <td>0.00632</td>\n",
              "      <td>18.0</td>\n",
              "      <td>2.31</td>\n",
              "      <td>0</td>\n",
              "      <td>0.538</td>\n",
              "      <td>6.575</td>\n",
              "      <td>65.2</td>\n",
              "      <td>4.0900</td>\n",
              "      <td>1</td>\n",
              "      <td>296</td>\n",
              "      <td>15.3</td>\n",
              "      <td>396.90</td>\n",
              "      <td>4.98</td>\n",
              "      <td>24.0</td>\n",
              "    </tr>\n",
              "    <tr>\n",
              "      <th>1</th>\n",
              "      <td>2</td>\n",
              "      <td>0.02731</td>\n",
              "      <td>0.0</td>\n",
              "      <td>7.07</td>\n",
              "      <td>0</td>\n",
              "      <td>0.469</td>\n",
              "      <td>6.421</td>\n",
              "      <td>78.9</td>\n",
              "      <td>4.9671</td>\n",
              "      <td>2</td>\n",
              "      <td>242</td>\n",
              "      <td>17.8</td>\n",
              "      <td>396.90</td>\n",
              "      <td>9.14</td>\n",
              "      <td>21.6</td>\n",
              "    </tr>\n",
              "    <tr>\n",
              "      <th>2</th>\n",
              "      <td>3</td>\n",
              "      <td>0.02729</td>\n",
              "      <td>0.0</td>\n",
              "      <td>7.07</td>\n",
              "      <td>0</td>\n",
              "      <td>0.469</td>\n",
              "      <td>7.185</td>\n",
              "      <td>61.1</td>\n",
              "      <td>4.9671</td>\n",
              "      <td>2</td>\n",
              "      <td>242</td>\n",
              "      <td>17.8</td>\n",
              "      <td>392.83</td>\n",
              "      <td>4.03</td>\n",
              "      <td>34.7</td>\n",
              "    </tr>\n",
              "    <tr>\n",
              "      <th>3</th>\n",
              "      <td>4</td>\n",
              "      <td>0.03237</td>\n",
              "      <td>0.0</td>\n",
              "      <td>2.18</td>\n",
              "      <td>0</td>\n",
              "      <td>0.458</td>\n",
              "      <td>6.998</td>\n",
              "      <td>45.8</td>\n",
              "      <td>6.0622</td>\n",
              "      <td>3</td>\n",
              "      <td>222</td>\n",
              "      <td>18.7</td>\n",
              "      <td>394.63</td>\n",
              "      <td>2.94</td>\n",
              "      <td>33.4</td>\n",
              "    </tr>\n",
              "    <tr>\n",
              "      <th>4</th>\n",
              "      <td>5</td>\n",
              "      <td>0.06905</td>\n",
              "      <td>0.0</td>\n",
              "      <td>2.18</td>\n",
              "      <td>0</td>\n",
              "      <td>0.458</td>\n",
              "      <td>7.147</td>\n",
              "      <td>54.2</td>\n",
              "      <td>6.0622</td>\n",
              "      <td>3</td>\n",
              "      <td>222</td>\n",
              "      <td>18.7</td>\n",
              "      <td>396.90</td>\n",
              "      <td>5.33</td>\n",
              "      <td>36.2</td>\n",
              "    </tr>\n",
              "    <tr>\n",
              "      <th>...</th>\n",
              "      <td>...</td>\n",
              "      <td>...</td>\n",
              "      <td>...</td>\n",
              "      <td>...</td>\n",
              "      <td>...</td>\n",
              "      <td>...</td>\n",
              "      <td>...</td>\n",
              "      <td>...</td>\n",
              "      <td>...</td>\n",
              "      <td>...</td>\n",
              "      <td>...</td>\n",
              "      <td>...</td>\n",
              "      <td>...</td>\n",
              "      <td>...</td>\n",
              "      <td>...</td>\n",
              "    </tr>\n",
              "    <tr>\n",
              "      <th>501</th>\n",
              "      <td>502</td>\n",
              "      <td>0.06263</td>\n",
              "      <td>0.0</td>\n",
              "      <td>11.93</td>\n",
              "      <td>0</td>\n",
              "      <td>0.573</td>\n",
              "      <td>6.593</td>\n",
              "      <td>69.1</td>\n",
              "      <td>2.4786</td>\n",
              "      <td>1</td>\n",
              "      <td>273</td>\n",
              "      <td>21.0</td>\n",
              "      <td>391.99</td>\n",
              "      <td>9.67</td>\n",
              "      <td>22.4</td>\n",
              "    </tr>\n",
              "    <tr>\n",
              "      <th>502</th>\n",
              "      <td>503</td>\n",
              "      <td>0.04527</td>\n",
              "      <td>0.0</td>\n",
              "      <td>11.93</td>\n",
              "      <td>0</td>\n",
              "      <td>0.573</td>\n",
              "      <td>6.120</td>\n",
              "      <td>76.7</td>\n",
              "      <td>2.2875</td>\n",
              "      <td>1</td>\n",
              "      <td>273</td>\n",
              "      <td>21.0</td>\n",
              "      <td>396.90</td>\n",
              "      <td>9.08</td>\n",
              "      <td>20.6</td>\n",
              "    </tr>\n",
              "    <tr>\n",
              "      <th>503</th>\n",
              "      <td>504</td>\n",
              "      <td>0.06076</td>\n",
              "      <td>0.0</td>\n",
              "      <td>11.93</td>\n",
              "      <td>0</td>\n",
              "      <td>0.573</td>\n",
              "      <td>6.976</td>\n",
              "      <td>91.0</td>\n",
              "      <td>2.1675</td>\n",
              "      <td>1</td>\n",
              "      <td>273</td>\n",
              "      <td>21.0</td>\n",
              "      <td>396.90</td>\n",
              "      <td>5.64</td>\n",
              "      <td>23.9</td>\n",
              "    </tr>\n",
              "    <tr>\n",
              "      <th>504</th>\n",
              "      <td>505</td>\n",
              "      <td>0.10959</td>\n",
              "      <td>0.0</td>\n",
              "      <td>11.93</td>\n",
              "      <td>0</td>\n",
              "      <td>0.573</td>\n",
              "      <td>6.794</td>\n",
              "      <td>89.3</td>\n",
              "      <td>2.3889</td>\n",
              "      <td>1</td>\n",
              "      <td>273</td>\n",
              "      <td>21.0</td>\n",
              "      <td>393.45</td>\n",
              "      <td>6.48</td>\n",
              "      <td>22.0</td>\n",
              "    </tr>\n",
              "    <tr>\n",
              "      <th>505</th>\n",
              "      <td>506</td>\n",
              "      <td>0.04741</td>\n",
              "      <td>0.0</td>\n",
              "      <td>11.93</td>\n",
              "      <td>0</td>\n",
              "      <td>0.573</td>\n",
              "      <td>6.030</td>\n",
              "      <td>80.8</td>\n",
              "      <td>2.5050</td>\n",
              "      <td>1</td>\n",
              "      <td>273</td>\n",
              "      <td>21.0</td>\n",
              "      <td>396.90</td>\n",
              "      <td>7.88</td>\n",
              "      <td>11.9</td>\n",
              "    </tr>\n",
              "  </tbody>\n",
              "</table>\n",
              "<p>506 rows × 15 columns</p>\n",
              "</div>"
            ],
            "text/plain": [
              "     Unnamed: 0     crim    zn  indus  chas  ...  tax  ptratio   black  lstat  medv\n",
              "0             1  0.00632  18.0   2.31     0  ...  296     15.3  396.90   4.98  24.0\n",
              "1             2  0.02731   0.0   7.07     0  ...  242     17.8  396.90   9.14  21.6\n",
              "2             3  0.02729   0.0   7.07     0  ...  242     17.8  392.83   4.03  34.7\n",
              "3             4  0.03237   0.0   2.18     0  ...  222     18.7  394.63   2.94  33.4\n",
              "4             5  0.06905   0.0   2.18     0  ...  222     18.7  396.90   5.33  36.2\n",
              "..          ...      ...   ...    ...   ...  ...  ...      ...     ...    ...   ...\n",
              "501         502  0.06263   0.0  11.93     0  ...  273     21.0  391.99   9.67  22.4\n",
              "502         503  0.04527   0.0  11.93     0  ...  273     21.0  396.90   9.08  20.6\n",
              "503         504  0.06076   0.0  11.93     0  ...  273     21.0  396.90   5.64  23.9\n",
              "504         505  0.10959   0.0  11.93     0  ...  273     21.0  393.45   6.48  22.0\n",
              "505         506  0.04741   0.0  11.93     0  ...  273     21.0  396.90   7.88  11.9\n",
              "\n",
              "[506 rows x 15 columns]"
            ]
          },
          "metadata": {},
          "execution_count": 18
        }
      ]
    },
    {
      "cell_type": "code",
      "metadata": {
        "colab": {
          "base_uri": "https://localhost:8080/"
        },
        "id": "kCgppHspeAnF",
        "outputId": "424b9683-d319-46f9-a19b-ce8ce64842ad"
      },
      "source": [
        "df.corr()['medv'].sort_values(ascending=False)"
      ],
      "execution_count": null,
      "outputs": [
        {
          "output_type": "execute_result",
          "data": {
            "text/plain": [
              "medv          1.000000\n",
              "rm            0.695360\n",
              "zn            0.360445\n",
              "black         0.333461\n",
              "dis           0.249929\n",
              "chas          0.175260\n",
              "Unnamed: 0   -0.226604\n",
              "age          -0.376955\n",
              "rad          -0.381626\n",
              "crim         -0.388305\n",
              "nox          -0.427321\n",
              "tax          -0.468536\n",
              "indus        -0.483725\n",
              "ptratio      -0.507787\n",
              "lstat        -0.737663\n",
              "Name: medv, dtype: float64"
            ]
          },
          "metadata": {},
          "execution_count": 20
        }
      ]
    },
    {
      "cell_type": "code",
      "metadata": {
        "colab": {
          "base_uri": "https://localhost:8080/",
          "height": 419
        },
        "id": "HpeZmp7Ijfun",
        "outputId": "4b173f8d-d13c-43c5-ce18-2ac3f8a9683b"
      },
      "source": [
        "X=df[['rm','lstat']]\n",
        "X"
      ],
      "execution_count": null,
      "outputs": [
        {
          "output_type": "execute_result",
          "data": {
            "text/html": [
              "<div>\n",
              "<style scoped>\n",
              "    .dataframe tbody tr th:only-of-type {\n",
              "        vertical-align: middle;\n",
              "    }\n",
              "\n",
              "    .dataframe tbody tr th {\n",
              "        vertical-align: top;\n",
              "    }\n",
              "\n",
              "    .dataframe thead th {\n",
              "        text-align: right;\n",
              "    }\n",
              "</style>\n",
              "<table border=\"1\" class=\"dataframe\">\n",
              "  <thead>\n",
              "    <tr style=\"text-align: right;\">\n",
              "      <th></th>\n",
              "      <th>rm</th>\n",
              "      <th>lstat</th>\n",
              "    </tr>\n",
              "  </thead>\n",
              "  <tbody>\n",
              "    <tr>\n",
              "      <th>0</th>\n",
              "      <td>6.575</td>\n",
              "      <td>4.98</td>\n",
              "    </tr>\n",
              "    <tr>\n",
              "      <th>1</th>\n",
              "      <td>6.421</td>\n",
              "      <td>9.14</td>\n",
              "    </tr>\n",
              "    <tr>\n",
              "      <th>2</th>\n",
              "      <td>7.185</td>\n",
              "      <td>4.03</td>\n",
              "    </tr>\n",
              "    <tr>\n",
              "      <th>3</th>\n",
              "      <td>6.998</td>\n",
              "      <td>2.94</td>\n",
              "    </tr>\n",
              "    <tr>\n",
              "      <th>4</th>\n",
              "      <td>7.147</td>\n",
              "      <td>5.33</td>\n",
              "    </tr>\n",
              "    <tr>\n",
              "      <th>...</th>\n",
              "      <td>...</td>\n",
              "      <td>...</td>\n",
              "    </tr>\n",
              "    <tr>\n",
              "      <th>501</th>\n",
              "      <td>6.593</td>\n",
              "      <td>9.67</td>\n",
              "    </tr>\n",
              "    <tr>\n",
              "      <th>502</th>\n",
              "      <td>6.120</td>\n",
              "      <td>9.08</td>\n",
              "    </tr>\n",
              "    <tr>\n",
              "      <th>503</th>\n",
              "      <td>6.976</td>\n",
              "      <td>5.64</td>\n",
              "    </tr>\n",
              "    <tr>\n",
              "      <th>504</th>\n",
              "      <td>6.794</td>\n",
              "      <td>6.48</td>\n",
              "    </tr>\n",
              "    <tr>\n",
              "      <th>505</th>\n",
              "      <td>6.030</td>\n",
              "      <td>7.88</td>\n",
              "    </tr>\n",
              "  </tbody>\n",
              "</table>\n",
              "<p>506 rows × 2 columns</p>\n",
              "</div>"
            ],
            "text/plain": [
              "        rm  lstat\n",
              "0    6.575   4.98\n",
              "1    6.421   9.14\n",
              "2    7.185   4.03\n",
              "3    6.998   2.94\n",
              "4    7.147   5.33\n",
              "..     ...    ...\n",
              "501  6.593   9.67\n",
              "502  6.120   9.08\n",
              "503  6.976   5.64\n",
              "504  6.794   6.48\n",
              "505  6.030   7.88\n",
              "\n",
              "[506 rows x 2 columns]"
            ]
          },
          "metadata": {},
          "execution_count": 22
        }
      ]
    },
    {
      "cell_type": "code",
      "metadata": {
        "colab": {
          "base_uri": "https://localhost:8080/"
        },
        "id": "n7i7Y_A_lnxn",
        "outputId": "a6d67d67-bea6-4b22-8cda-e34ff5d91415"
      },
      "source": [
        "print('min is',X.min())\n",
        "print('max is',X.max())"
      ],
      "execution_count": null,
      "outputs": [
        {
          "output_type": "stream",
          "name": "stdout",
          "text": [
            "min is rm       3.561\n",
            "lstat    1.730\n",
            "dtype: float64\n",
            "max is rm        8.78\n",
            "lstat    37.97\n",
            "dtype: float64\n"
          ]
        }
      ]
    },
    {
      "cell_type": "code",
      "metadata": {
        "id": "tC-TQpDHlr4g"
      },
      "source": [
        "from sklearn import preprocessing\n",
        "do=preprocessing.MinMaxScaler(feature_range=(0,1))\n",
        "Xscaled=do.fit_transform(X)"
      ],
      "execution_count": null,
      "outputs": []
    },
    {
      "cell_type": "code",
      "metadata": {
        "colab": {
          "base_uri": "https://localhost:8080/"
        },
        "id": "LmURgLrqlyXO",
        "outputId": "0caed92d-9290-400a-f57b-4d691ea39fde"
      },
      "source": [
        "Xscaled\n"
      ],
      "execution_count": null,
      "outputs": [
        {
          "output_type": "execute_result",
          "data": {
            "text/plain": [
              "array([[0.57750527, 0.08967991],\n",
              "       [0.5479977 , 0.2044702 ],\n",
              "       [0.6943859 , 0.06346578],\n",
              "       ...,\n",
              "       [0.65433991, 0.10789183],\n",
              "       [0.61946733, 0.13107064],\n",
              "       [0.47307913, 0.16970199]])"
            ]
          },
          "metadata": {},
          "execution_count": 30
        }
      ]
    },
    {
      "cell_type": "code",
      "metadata": {
        "colab": {
          "base_uri": "https://localhost:8080/"
        },
        "id": "QjfV3IEQnbVO",
        "outputId": "98cc3273-fda0-4b69-d09c-2d8ea01e1955"
      },
      "source": [
        "y=df['medv']\n",
        "y"
      ],
      "execution_count": null,
      "outputs": [
        {
          "output_type": "execute_result",
          "data": {
            "text/plain": [
              "0      24.0\n",
              "1      21.6\n",
              "2      34.7\n",
              "3      33.4\n",
              "4      36.2\n",
              "       ... \n",
              "501    22.4\n",
              "502    20.6\n",
              "503    23.9\n",
              "504    22.0\n",
              "505    11.9\n",
              "Name: medv, Length: 506, dtype: float64"
            ]
          },
          "metadata": {},
          "execution_count": 31
        }
      ]
    },
    {
      "cell_type": "code",
      "metadata": {
        "id": "NXat30hwps10"
      },
      "source": [
        "from sklearn.model_selection import train_test_split\n",
        "Xtrain,Xtest,ytain,ytest=train_test_split(Xscaled,y,test_size=0.75)"
      ],
      "execution_count": null,
      "outputs": []
    },
    {
      "cell_type": "code",
      "metadata": {
        "id": "pGd4tEE0p_bH"
      },
      "source": [
        "from sklearn.svm import SVR\n",
        "lir=SVR(kernel='linear')"
      ],
      "execution_count": null,
      "outputs": []
    },
    {
      "cell_type": "code",
      "metadata": {
        "id": "yvNdltVUsUdd"
      },
      "source": [
        "from sklearn.model_selection import GridSearchCV\n",
        "param_grid = {'C':range(1,100)}\n",
        "grid = GridSearchCV(lir,param_grid,cv=3)"
      ],
      "execution_count": null,
      "outputs": []
    },
    {
      "cell_type": "code",
      "metadata": {
        "colab": {
          "base_uri": "https://localhost:8080/"
        },
        "id": "pu3oOmg0sdIa",
        "outputId": "2249f13b-b3bd-4980-8d28-cdf196fdbae2"
      },
      "source": [
        "grid.fit(Xtrain,ytain)"
      ],
      "execution_count": null,
      "outputs": [
        {
          "output_type": "execute_result",
          "data": {
            "text/plain": [
              "GridSearchCV(cv=3, estimator=SVR(kernel='linear'),\n",
              "             param_grid={'C': range(1, 100)})"
            ]
          },
          "metadata": {},
          "execution_count": 60
        }
      ]
    },
    {
      "cell_type": "code",
      "metadata": {
        "colab": {
          "base_uri": "https://localhost:8080/"
        },
        "id": "5xnhyeResdRB",
        "outputId": "5590421f-77fd-4879-cd47-2d6a31b0f1b5"
      },
      "source": [
        "grid.best_params_"
      ],
      "execution_count": null,
      "outputs": [
        {
          "output_type": "execute_result",
          "data": {
            "text/plain": [
              "{'C': 34}"
            ]
          },
          "metadata": {},
          "execution_count": 61
        }
      ]
    },
    {
      "cell_type": "code",
      "metadata": {
        "colab": {
          "base_uri": "https://localhost:8080/"
        },
        "id": "cPGcOdo_qDdu",
        "outputId": "89e136e8-b9c0-4473-f957-5a0f9600446f"
      },
      "source": [
        "from sklearn.svm import SVR\n",
        "lir=SVR(kernel='rbf',C=34)\n",
        "lir.fit(Xtrain,ytain)"
      ],
      "execution_count": null,
      "outputs": [
        {
          "output_type": "execute_result",
          "data": {
            "text/plain": [
              "SVR(C=34)"
            ]
          },
          "metadata": {},
          "execution_count": 64
        }
      ]
    },
    {
      "cell_type": "code",
      "metadata": {
        "id": "eVxi4FK0sccu"
      },
      "source": [
        ""
      ],
      "execution_count": null,
      "outputs": []
    },
    {
      "cell_type": "code",
      "metadata": {
        "colab": {
          "base_uri": "https://localhost:8080/"
        },
        "id": "OSSCqjAXqLMM",
        "outputId": "b52835c8-1409-4f53-ea14-5b98928f23d5"
      },
      "source": [
        "lir.score(Xtest,ytest)"
      ],
      "execution_count": null,
      "outputs": [
        {
          "output_type": "execute_result",
          "data": {
            "text/plain": [
              "0.7255359665007772"
            ]
          },
          "metadata": {},
          "execution_count": 65
        }
      ]
    },
    {
      "cell_type": "code",
      "metadata": {
        "colab": {
          "base_uri": "https://localhost:8080/"
        },
        "id": "nFz0rty8qV2N",
        "outputId": "1950ef2e-d5b7-4202-dd2c-3e1a2a4bf452"
      },
      "source": [
        "\n",
        "lir.predict(Xtrain)"
      ],
      "execution_count": null,
      "outputs": [
        {
          "output_type": "execute_result",
          "data": {
            "text/plain": [
              "array([20.339524  , 21.1490015 , 14.92766077, 11.91918706, 23.55530164,\n",
              "       15.29990701, 18.22672503, 18.42215114, 10.30013542, 21.74764885,\n",
              "        7.10009737, 22.89706269, 21.38341453, 20.44976542, 36.23256322,\n",
              "       17.42133846, 25.48350548, 20.21367405, 17.22088018, 42.28709193,\n",
              "       33.21174934, 26.6585457 , 23.44526462,  8.59981379, 16.50019932,\n",
              "       38.77635292, 19.97618092, 30.63864131, 31.15305769, 49.9001286 ,\n",
              "       19.63696775, 28.2027595 , 21.49296658, 21.82317079, 19.84447049,\n",
              "       21.09969686, 26.08721462, 26.74571722, 25.26872118, 23.97350995,\n",
              "       47.28197629, 22.78966583, 29.79619704, 21.48085597, 21.8438066 ,\n",
              "       21.73021839, 21.77079679, 23.66279268, 30.60030133, 22.75988363,\n",
              "       21.42947697, 23.50118138,  6.56831116, 34.39937123, 22.54422956,\n",
              "       47.76696697, 49.90019553,  8.91767599, 30.84306451, 21.94689413,\n",
              "       21.92559151, 16.07316146, 21.14324686, 23.89640008, 27.16688954,\n",
              "       16.91345275, 19.08633659, 47.33704191, 21.93479842, 11.61932196,\n",
              "       12.09982553, 20.9998751 , 20.91067888, 20.89409599, 32.95121922,\n",
              "       25.08726141, 12.28708194, 22.53741096, 19.61450928, 24.36104528,\n",
              "       24.87176978, 22.87514378, 24.51563379, 21.25192068, 22.72106317,\n",
              "       51.41252401,  9.94635866, 48.74966398, 17.79645994, 35.00024095,\n",
              "       20.81531618, 12.23346566, 27.79983999, 16.56714525, 21.6885482 ,\n",
              "       24.06124067, 16.90509262, 21.41770215, 12.00853107, 19.59444368,\n",
              "       14.53472642, 29.06820938,  8.9783668 , 21.13014215, 26.62469238,\n",
              "       21.70446927, 21.19107166, 35.8990364 ,  9.92053135, 18.32793458,\n",
              "       20.71178603, 21.09956186,  7.10020361, 24.55318796, 20.73294049,\n",
              "       16.99830097, 14.68716688, 21.13253747, 19.82250074, 21.89653368,\n",
              "       31.89997581, 20.42992372, 13.40018453, 33.98855134, 22.31063718,\n",
              "       19.96999673])"
            ]
          },
          "metadata": {},
          "execution_count": 66
        }
      ]
    },
    {
      "cell_type": "code",
      "metadata": {
        "colab": {
          "base_uri": "https://localhost:8080/"
        },
        "id": "H1jv6nTlqfGZ",
        "outputId": "92f4c09e-bf2a-40c5-fa51-473eba6ab59c"
      },
      "source": [
        "ytain\n"
      ],
      "execution_count": null,
      "outputs": [
        {
          "output_type": "execute_result",
          "data": {
            "text/plain": [
              "270    21.1\n",
              "59     19.6\n",
              "389    11.5\n",
              "382    11.3\n",
              "360    25.0\n",
              "       ... \n",
              "492    20.1\n",
              "377    13.3\n",
              "3      33.4\n",
              "355    20.6\n",
              "459    20.0\n",
              "Name: medv, Length: 126, dtype: float64"
            ]
          },
          "metadata": {},
          "execution_count": 67
        }
      ]
    },
    {
      "cell_type": "code",
      "metadata": {
        "colab": {
          "base_uri": "https://localhost:8080/"
        },
        "id": "9Q08bUZTrBmG",
        "outputId": "dea40ab3-47c3-40c7-8abe-4b226a08926c"
      },
      "source": [
        "Xtrain.size"
      ],
      "execution_count": null,
      "outputs": [
        {
          "output_type": "execute_result",
          "data": {
            "text/plain": [
              "252"
            ]
          },
          "metadata": {},
          "execution_count": 49
        }
      ]
    },
    {
      "cell_type": "code",
      "metadata": {
        "colab": {
          "base_uri": "https://localhost:8080/"
        },
        "id": "rRDxuBslrHd9",
        "outputId": "2933d45c-b951-4aa8-bdbc-e3aa39ac07f7"
      },
      "source": [
        "ytain.size\n"
      ],
      "execution_count": null,
      "outputs": [
        {
          "output_type": "execute_result",
          "data": {
            "text/plain": [
              "126"
            ]
          },
          "metadata": {},
          "execution_count": 52
        }
      ]
    },
    {
      "cell_type": "code",
      "metadata": {
        "colab": {
          "base_uri": "https://localhost:8080/"
        },
        "id": "wwhpvNE7rJhQ",
        "outputId": "56f3f4e2-ff34-4502-c06b-e2600b268efc"
      },
      "source": [
        "lir.predict(Xtest)"
      ],
      "execution_count": null,
      "outputs": [
        {
          "output_type": "execute_result",
          "data": {
            "text/plain": [
              "array([21.76347758,  7.52625037, 14.34572882, 30.60999854, 32.21785039,\n",
              "       19.81816233,  6.64180907,  6.03359867, 25.06417519,  9.54488084,\n",
              "       18.87398304, 51.19605006, 45.20117561, 20.54701811, 23.42839331,\n",
              "       25.66677531, 21.54652907, 13.64384068, 19.51682013, 28.35512389,\n",
              "        9.76572884, 17.72342957, 20.89000038, 51.20675714, 20.74141724,\n",
              "       19.54667389, 19.87604241, 31.32170406, 20.99895467, 18.81967551,\n",
              "       46.78072013, 18.97483405, 22.5442816 , 17.42800041, 27.0087989 ,\n",
              "       22.95447442,  9.84092026, 13.33923323, 19.31784958,  9.85665131,\n",
              "       19.7197144 , 17.34900939, 20.181907  , 19.59408469, 24.94930392,\n",
              "       19.95021457, 19.9306623 , 23.6160699 , 19.75623835, 29.47754828,\n",
              "       17.20775966, 22.15566448, 32.2015254 , 21.3240508 , 14.61389537,\n",
              "       39.11306045, 19.3804283 , 10.24728342, 24.62950962, 21.76394666,\n",
              "       18.90344565,  6.98729636, 19.27203871,  6.01197891, 21.0829444 ,\n",
              "       20.75378205, 20.64676696, 44.75106247, 16.87948242, 15.73992436,\n",
              "       16.58167201, 21.80702691, 22.09908481, 17.24133248, 23.08161994,\n",
              "       13.56231391, 20.57649081, 41.77951316, 48.63045974, 20.26940146,\n",
              "       13.12119795, 22.92705721, 14.72305306, 21.97264358, 21.61183755,\n",
              "       28.030522  , 18.93324247, 35.77495854, 20.49054204, 21.84564247,\n",
              "       13.50128173,  9.57385073, 24.7646775 , 18.88573875, 20.37975715,\n",
              "       10.84744778, 30.59221022, 25.54427792, 24.71989001, 13.02560312,\n",
              "       22.52436314, 32.35091286, 25.64945624, 19.85917645, 23.39320121,\n",
              "       34.2484623 ,  6.29446691, 21.10710141, 18.32803007, 19.1010025 ,\n",
              "       27.75069707, 35.03264231, 18.814533  , 50.20948906, 38.17787979,\n",
              "       18.82902572, 18.26949423, 49.64348086, 20.79849945, 17.56958262,\n",
              "       24.95200846, 19.82537254, 38.42516942,  7.98952558, 20.59357308,\n",
              "       16.26249882,  9.81728244, 20.10116463, 25.24753436, 17.28537444,\n",
              "       12.67394297, 18.05205096, 20.91405332, 20.85161731, 22.53206847,\n",
              "       17.69169901, 20.15825961, 34.18820861, 21.50612043, 20.23833913,\n",
              "       20.38791908, 17.8354922 ,  7.68015781, 17.88002875,  5.75578253,\n",
              "       21.75555071, 15.33892656, 20.85356705, 24.37510533, 15.5512387 ,\n",
              "       16.36306725, 21.64722722, 19.89531965, 18.53324129, 49.79200057,\n",
              "        7.86172683, 21.29547117, 27.98730371, 20.05968252, 18.09733593,\n",
              "       18.15535461, 27.69872149, 20.61754602, 20.73879242, 20.27196903,\n",
              "       11.1032911 , 14.35939198, 19.20412719,  6.37182103, 11.62573383,\n",
              "       21.84335322, 22.98210776, 19.77826404, 19.15874313, 18.63652572,\n",
              "       18.08024932, 20.09659138, 12.6679651 , 31.97640312, 26.31817144,\n",
              "       21.42708402, 19.77021908, 21.73037768, 10.87191358, 21.12072542,\n",
              "       20.81819722, 12.18665575, 21.70187682, 20.62302061, 36.88877592,\n",
              "       23.35176563, 20.6373011 , 17.20535327, 21.62255743, 20.60966156,\n",
              "       26.81447728, 20.98359246, 21.22630803, 23.63023006, 19.78653468,\n",
              "       25.44667451, 18.27820184, 29.03301597, 19.71740442, 20.10388955,\n",
              "       37.99490782, 22.76572374, 15.87955877, 20.87101261, 34.91421007,\n",
              "       29.71770472, 24.09989375, 43.27785074, 19.11775093, 20.2430134 ,\n",
              "       25.85165323, 21.08913842, 14.54089654, 21.29439276, 18.6318502 ,\n",
              "       26.23552525,  9.78179729, 31.73789243, 26.17202143, 25.56134466,\n",
              "       21.26889758, 18.7408843 , 19.98482624,  7.24807273,  6.86368162,\n",
              "       18.18865438, 20.24298913, 21.06058707, 19.6798653 , 19.05777778,\n",
              "       10.66698061, 21.63008309, 26.44742493, 20.01998839, 21.08122301,\n",
              "       19.89107699, 19.48495388, 18.89901443, 31.84563604, 13.41726868,\n",
              "       19.00740958, 15.81175317, 35.24815482, 20.58643733, 24.47828306,\n",
              "       19.84199515, 20.6114324 , 27.79441924, 20.37005278, 16.58482767,\n",
              "       20.56740895, 30.5239166 ,  8.28566569, 20.31400181, 17.10506799,\n",
              "       10.14537205, 17.59161351, 20.5577622 , 14.33409513, 26.93669127,\n",
              "       24.77982865, 19.39296662, 49.46944052, 23.65995825, 27.75914588,\n",
              "       22.68031404, 17.29656437, 21.85277478,  8.99379437, 23.35586923,\n",
              "       22.18917741, 20.49141336, 18.00710889, 20.52945863, 50.56379651,\n",
              "       20.86825853, 19.21082003, 26.31642754, 26.20090985, 44.16967633,\n",
              "       30.20005106, 18.36571341, 24.84788507, 15.29011648, 20.25186203,\n",
              "       21.01110917, 20.80035812, 15.04354356, 24.22913888, 22.59566182,\n",
              "       36.70332339, 30.23980094, 41.51941909, 32.87616058, 23.90630784,\n",
              "       21.22894399, 20.32484312, 18.12453666, 20.0029191 , 21.16155859,\n",
              "       28.40745194, 29.97959567, 20.47829367, 15.43345404, 17.74867784,\n",
              "       16.79086848, 21.76628038, 33.57206262, 24.05371624, 21.21867364,\n",
              "       21.20923084, 25.32800973,  7.57108685, 13.85087643, 25.36698383,\n",
              "       17.04499207, 29.40172417, 47.31339683, 50.21136832, 24.04337634,\n",
              "       13.29087537, 23.5928164 , 21.8569843 , 24.49193962, 18.26560452,\n",
              "       22.79991391, 31.4843081 , 35.02541371, 21.83980567, 21.00578773,\n",
              "       23.40401543, 51.43550764, 32.17862801, 26.3642267 , 23.99035388,\n",
              "       22.41668008, 23.65947925, 31.93563856, 29.27558173, 16.63642718,\n",
              "       10.82227823, 20.29786486, 34.85224665, 43.21097761, 20.89738266,\n",
              "       19.90065829, 18.9325413 , 12.33817281, 20.3676475 , 23.59953173,\n",
              "       10.69176184, 27.66352879, 51.3075844 , 21.30899006, 27.09739397,\n",
              "       20.30703127, 21.01918642, 23.04501266, 48.02689696, 20.29116259,\n",
              "       16.54519666, 20.82085919, 16.15325409, 26.75470904, 23.20073309,\n",
              "       17.92516717, 29.18505049, 23.5710926 , 18.75960752, 23.87734307,\n",
              "       11.14838984, 35.95419519, 19.72711522, 39.32559261, 21.87213625])"
            ]
          },
          "metadata": {},
          "execution_count": 72
        }
      ]
    },
    {
      "cell_type": "code",
      "metadata": {
        "colab": {
          "base_uri": "https://localhost:8080/"
        },
        "id": "WaU99P9qtsxd",
        "outputId": "e4487951-5e45-42cd-fbd2-cf4408da0b57"
      },
      "source": [
        "ytest.head()"
      ],
      "execution_count": null,
      "outputs": [
        {
          "output_type": "execute_result",
          "data": {
            "text/plain": [
              "247    20.5\n",
              "214    23.7\n",
              "20     13.6\n",
              "64     33.0\n",
              "281    35.4\n",
              "Name: medv, dtype: float64"
            ]
          },
          "metadata": {},
          "execution_count": 70
        }
      ]
    },
    {
      "cell_type": "code",
      "metadata": {
        "id": "HIPLoHyXtvO7"
      },
      "source": [
        ""
      ],
      "execution_count": null,
      "outputs": []
    }
  ]
}