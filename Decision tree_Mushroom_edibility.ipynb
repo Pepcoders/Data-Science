{
  "nbformat": 4,
  "nbformat_minor": 0,
  "metadata": {
    "colab": {
      "name": "Mushroom edibility",
      "provenance": []
    },
    "kernelspec": {
      "name": "python3",
      "display_name": "Python 3"
    },
    "language_info": {
      "name": "python"
    }
  },
  "cells": [
    {
      "cell_type": "code",
      "metadata": {
        "id": "EqKnYlt3O9gs"
      },
      "source": [
        "import pandas as pd\n",
        "import numpy as np"
      ],
      "execution_count": null,
      "outputs": []
    },
    {
      "cell_type": "code",
      "metadata": {
        "id": "13udN3mnPVYE"
      },
      "source": [
        "df=pd.read_csv('https://raw.githubusercontent.com/shivendutyagi/Datasets/main/mushrooms.csv')"
      ],
      "execution_count": null,
      "outputs": []
    },
    {
      "cell_type": "code",
      "metadata": {
        "colab": {
          "base_uri": "https://localhost:8080/",
          "height": 495
        },
        "id": "75tRGIyPPYe3",
        "outputId": "d1422639-2c75-4e68-b843-6cfc15cbd5ac"
      },
      "source": [
        "df\n"
      ],
      "execution_count": null,
      "outputs": [
        {
          "output_type": "execute_result",
          "data": {
            "text/html": [
              "<div>\n",
              "<style scoped>\n",
              "    .dataframe tbody tr th:only-of-type {\n",
              "        vertical-align: middle;\n",
              "    }\n",
              "\n",
              "    .dataframe tbody tr th {\n",
              "        vertical-align: top;\n",
              "    }\n",
              "\n",
              "    .dataframe thead th {\n",
              "        text-align: right;\n",
              "    }\n",
              "</style>\n",
              "<table border=\"1\" class=\"dataframe\">\n",
              "  <thead>\n",
              "    <tr style=\"text-align: right;\">\n",
              "      <th></th>\n",
              "      <th>class</th>\n",
              "      <th>cap-shape</th>\n",
              "      <th>cap-surface</th>\n",
              "      <th>cap-color</th>\n",
              "      <th>bruises</th>\n",
              "      <th>odor</th>\n",
              "      <th>gill-attachment</th>\n",
              "      <th>gill-spacing</th>\n",
              "      <th>gill-size</th>\n",
              "      <th>gill-color</th>\n",
              "      <th>stalk-shape</th>\n",
              "      <th>stalk-root</th>\n",
              "      <th>stalk-surface-above-ring</th>\n",
              "      <th>stalk-surface-below-ring</th>\n",
              "      <th>stalk-color-above-ring</th>\n",
              "      <th>stalk-color-below-ring</th>\n",
              "      <th>veil-type</th>\n",
              "      <th>veil-color</th>\n",
              "      <th>ring-number</th>\n",
              "      <th>ring-type</th>\n",
              "      <th>spore-print-color</th>\n",
              "      <th>population</th>\n",
              "      <th>habitat</th>\n",
              "    </tr>\n",
              "  </thead>\n",
              "  <tbody>\n",
              "    <tr>\n",
              "      <th>0</th>\n",
              "      <td>p</td>\n",
              "      <td>x</td>\n",
              "      <td>s</td>\n",
              "      <td>n</td>\n",
              "      <td>t</td>\n",
              "      <td>p</td>\n",
              "      <td>f</td>\n",
              "      <td>c</td>\n",
              "      <td>n</td>\n",
              "      <td>k</td>\n",
              "      <td>e</td>\n",
              "      <td>e</td>\n",
              "      <td>s</td>\n",
              "      <td>s</td>\n",
              "      <td>w</td>\n",
              "      <td>w</td>\n",
              "      <td>p</td>\n",
              "      <td>w</td>\n",
              "      <td>o</td>\n",
              "      <td>p</td>\n",
              "      <td>k</td>\n",
              "      <td>s</td>\n",
              "      <td>u</td>\n",
              "    </tr>\n",
              "    <tr>\n",
              "      <th>1</th>\n",
              "      <td>e</td>\n",
              "      <td>x</td>\n",
              "      <td>s</td>\n",
              "      <td>y</td>\n",
              "      <td>t</td>\n",
              "      <td>a</td>\n",
              "      <td>f</td>\n",
              "      <td>c</td>\n",
              "      <td>b</td>\n",
              "      <td>k</td>\n",
              "      <td>e</td>\n",
              "      <td>c</td>\n",
              "      <td>s</td>\n",
              "      <td>s</td>\n",
              "      <td>w</td>\n",
              "      <td>w</td>\n",
              "      <td>p</td>\n",
              "      <td>w</td>\n",
              "      <td>o</td>\n",
              "      <td>p</td>\n",
              "      <td>n</td>\n",
              "      <td>n</td>\n",
              "      <td>g</td>\n",
              "    </tr>\n",
              "    <tr>\n",
              "      <th>2</th>\n",
              "      <td>e</td>\n",
              "      <td>b</td>\n",
              "      <td>s</td>\n",
              "      <td>w</td>\n",
              "      <td>t</td>\n",
              "      <td>l</td>\n",
              "      <td>f</td>\n",
              "      <td>c</td>\n",
              "      <td>b</td>\n",
              "      <td>n</td>\n",
              "      <td>e</td>\n",
              "      <td>c</td>\n",
              "      <td>s</td>\n",
              "      <td>s</td>\n",
              "      <td>w</td>\n",
              "      <td>w</td>\n",
              "      <td>p</td>\n",
              "      <td>w</td>\n",
              "      <td>o</td>\n",
              "      <td>p</td>\n",
              "      <td>n</td>\n",
              "      <td>n</td>\n",
              "      <td>m</td>\n",
              "    </tr>\n",
              "    <tr>\n",
              "      <th>3</th>\n",
              "      <td>p</td>\n",
              "      <td>x</td>\n",
              "      <td>y</td>\n",
              "      <td>w</td>\n",
              "      <td>t</td>\n",
              "      <td>p</td>\n",
              "      <td>f</td>\n",
              "      <td>c</td>\n",
              "      <td>n</td>\n",
              "      <td>n</td>\n",
              "      <td>e</td>\n",
              "      <td>e</td>\n",
              "      <td>s</td>\n",
              "      <td>s</td>\n",
              "      <td>w</td>\n",
              "      <td>w</td>\n",
              "      <td>p</td>\n",
              "      <td>w</td>\n",
              "      <td>o</td>\n",
              "      <td>p</td>\n",
              "      <td>k</td>\n",
              "      <td>s</td>\n",
              "      <td>u</td>\n",
              "    </tr>\n",
              "    <tr>\n",
              "      <th>4</th>\n",
              "      <td>e</td>\n",
              "      <td>x</td>\n",
              "      <td>s</td>\n",
              "      <td>g</td>\n",
              "      <td>f</td>\n",
              "      <td>n</td>\n",
              "      <td>f</td>\n",
              "      <td>w</td>\n",
              "      <td>b</td>\n",
              "      <td>k</td>\n",
              "      <td>t</td>\n",
              "      <td>e</td>\n",
              "      <td>s</td>\n",
              "      <td>s</td>\n",
              "      <td>w</td>\n",
              "      <td>w</td>\n",
              "      <td>p</td>\n",
              "      <td>w</td>\n",
              "      <td>o</td>\n",
              "      <td>e</td>\n",
              "      <td>n</td>\n",
              "      <td>a</td>\n",
              "      <td>g</td>\n",
              "    </tr>\n",
              "    <tr>\n",
              "      <th>...</th>\n",
              "      <td>...</td>\n",
              "      <td>...</td>\n",
              "      <td>...</td>\n",
              "      <td>...</td>\n",
              "      <td>...</td>\n",
              "      <td>...</td>\n",
              "      <td>...</td>\n",
              "      <td>...</td>\n",
              "      <td>...</td>\n",
              "      <td>...</td>\n",
              "      <td>...</td>\n",
              "      <td>...</td>\n",
              "      <td>...</td>\n",
              "      <td>...</td>\n",
              "      <td>...</td>\n",
              "      <td>...</td>\n",
              "      <td>...</td>\n",
              "      <td>...</td>\n",
              "      <td>...</td>\n",
              "      <td>...</td>\n",
              "      <td>...</td>\n",
              "      <td>...</td>\n",
              "      <td>...</td>\n",
              "    </tr>\n",
              "    <tr>\n",
              "      <th>8119</th>\n",
              "      <td>e</td>\n",
              "      <td>k</td>\n",
              "      <td>s</td>\n",
              "      <td>n</td>\n",
              "      <td>f</td>\n",
              "      <td>n</td>\n",
              "      <td>a</td>\n",
              "      <td>c</td>\n",
              "      <td>b</td>\n",
              "      <td>y</td>\n",
              "      <td>e</td>\n",
              "      <td>?</td>\n",
              "      <td>s</td>\n",
              "      <td>s</td>\n",
              "      <td>o</td>\n",
              "      <td>o</td>\n",
              "      <td>p</td>\n",
              "      <td>o</td>\n",
              "      <td>o</td>\n",
              "      <td>p</td>\n",
              "      <td>b</td>\n",
              "      <td>c</td>\n",
              "      <td>l</td>\n",
              "    </tr>\n",
              "    <tr>\n",
              "      <th>8120</th>\n",
              "      <td>e</td>\n",
              "      <td>x</td>\n",
              "      <td>s</td>\n",
              "      <td>n</td>\n",
              "      <td>f</td>\n",
              "      <td>n</td>\n",
              "      <td>a</td>\n",
              "      <td>c</td>\n",
              "      <td>b</td>\n",
              "      <td>y</td>\n",
              "      <td>e</td>\n",
              "      <td>?</td>\n",
              "      <td>s</td>\n",
              "      <td>s</td>\n",
              "      <td>o</td>\n",
              "      <td>o</td>\n",
              "      <td>p</td>\n",
              "      <td>n</td>\n",
              "      <td>o</td>\n",
              "      <td>p</td>\n",
              "      <td>b</td>\n",
              "      <td>v</td>\n",
              "      <td>l</td>\n",
              "    </tr>\n",
              "    <tr>\n",
              "      <th>8121</th>\n",
              "      <td>e</td>\n",
              "      <td>f</td>\n",
              "      <td>s</td>\n",
              "      <td>n</td>\n",
              "      <td>f</td>\n",
              "      <td>n</td>\n",
              "      <td>a</td>\n",
              "      <td>c</td>\n",
              "      <td>b</td>\n",
              "      <td>n</td>\n",
              "      <td>e</td>\n",
              "      <td>?</td>\n",
              "      <td>s</td>\n",
              "      <td>s</td>\n",
              "      <td>o</td>\n",
              "      <td>o</td>\n",
              "      <td>p</td>\n",
              "      <td>o</td>\n",
              "      <td>o</td>\n",
              "      <td>p</td>\n",
              "      <td>b</td>\n",
              "      <td>c</td>\n",
              "      <td>l</td>\n",
              "    </tr>\n",
              "    <tr>\n",
              "      <th>8122</th>\n",
              "      <td>p</td>\n",
              "      <td>k</td>\n",
              "      <td>y</td>\n",
              "      <td>n</td>\n",
              "      <td>f</td>\n",
              "      <td>y</td>\n",
              "      <td>f</td>\n",
              "      <td>c</td>\n",
              "      <td>n</td>\n",
              "      <td>b</td>\n",
              "      <td>t</td>\n",
              "      <td>?</td>\n",
              "      <td>s</td>\n",
              "      <td>k</td>\n",
              "      <td>w</td>\n",
              "      <td>w</td>\n",
              "      <td>p</td>\n",
              "      <td>w</td>\n",
              "      <td>o</td>\n",
              "      <td>e</td>\n",
              "      <td>w</td>\n",
              "      <td>v</td>\n",
              "      <td>l</td>\n",
              "    </tr>\n",
              "    <tr>\n",
              "      <th>8123</th>\n",
              "      <td>e</td>\n",
              "      <td>x</td>\n",
              "      <td>s</td>\n",
              "      <td>n</td>\n",
              "      <td>f</td>\n",
              "      <td>n</td>\n",
              "      <td>a</td>\n",
              "      <td>c</td>\n",
              "      <td>b</td>\n",
              "      <td>y</td>\n",
              "      <td>e</td>\n",
              "      <td>?</td>\n",
              "      <td>s</td>\n",
              "      <td>s</td>\n",
              "      <td>o</td>\n",
              "      <td>o</td>\n",
              "      <td>p</td>\n",
              "      <td>o</td>\n",
              "      <td>o</td>\n",
              "      <td>p</td>\n",
              "      <td>o</td>\n",
              "      <td>c</td>\n",
              "      <td>l</td>\n",
              "    </tr>\n",
              "  </tbody>\n",
              "</table>\n",
              "<p>8124 rows × 23 columns</p>\n",
              "</div>"
            ],
            "text/plain": [
              "     class cap-shape cap-surface  ... spore-print-color population habitat\n",
              "0        p         x           s  ...                 k          s       u\n",
              "1        e         x           s  ...                 n          n       g\n",
              "2        e         b           s  ...                 n          n       m\n",
              "3        p         x           y  ...                 k          s       u\n",
              "4        e         x           s  ...                 n          a       g\n",
              "...    ...       ...         ...  ...               ...        ...     ...\n",
              "8119     e         k           s  ...                 b          c       l\n",
              "8120     e         x           s  ...                 b          v       l\n",
              "8121     e         f           s  ...                 b          c       l\n",
              "8122     p         k           y  ...                 w          v       l\n",
              "8123     e         x           s  ...                 o          c       l\n",
              "\n",
              "[8124 rows x 23 columns]"
            ]
          },
          "metadata": {},
          "execution_count": 14
        }
      ]
    },
    {
      "cell_type": "code",
      "metadata": {
        "colab": {
          "base_uri": "https://localhost:8080/"
        },
        "id": "ujR17a28P3S1",
        "outputId": "d86f779d-5add-457b-ced4-6467e393ccd3"
      },
      "source": [
        "for column in df.columns:\n",
        "  print('Unique values in',column+':',\n",
        "        df[column].unique())"
      ],
      "execution_count": null,
      "outputs": [
        {
          "output_type": "stream",
          "name": "stdout",
          "text": [
            "Unique values in class: ['p' 'e']\n",
            "Unique values in cap-shape: ['x' 'b' 's' 'f' 'k' 'c']\n",
            "Unique values in cap-surface: ['s' 'y' 'f' 'g']\n",
            "Unique values in cap-color: ['n' 'y' 'w' 'g' 'e' 'p' 'b' 'u' 'c' 'r']\n",
            "Unique values in bruises: ['t' 'f']\n",
            "Unique values in odor: ['p' 'a' 'l' 'n' 'f' 'c' 'y' 's' 'm']\n",
            "Unique values in gill-attachment: ['f' 'a']\n",
            "Unique values in gill-spacing: ['c' 'w']\n",
            "Unique values in gill-size: ['n' 'b']\n",
            "Unique values in gill-color: ['k' 'n' 'g' 'p' 'w' 'h' 'u' 'e' 'b' 'r' 'y' 'o']\n",
            "Unique values in stalk-shape: ['e' 't']\n",
            "Unique values in stalk-root: ['e' 'c' 'b' 'r' '?']\n",
            "Unique values in stalk-surface-above-ring: ['s' 'f' 'k' 'y']\n",
            "Unique values in stalk-surface-below-ring: ['s' 'f' 'y' 'k']\n",
            "Unique values in stalk-color-above-ring: ['w' 'g' 'p' 'n' 'b' 'e' 'o' 'c' 'y']\n",
            "Unique values in stalk-color-below-ring: ['w' 'p' 'g' 'b' 'n' 'e' 'y' 'o' 'c']\n",
            "Unique values in veil-type: ['p']\n",
            "Unique values in veil-color: ['w' 'n' 'o' 'y']\n",
            "Unique values in ring-number: ['o' 't' 'n']\n",
            "Unique values in ring-type: ['p' 'e' 'l' 'f' 'n']\n",
            "Unique values in spore-print-color: ['k' 'n' 'u' 'h' 'w' 'r' 'o' 'y' 'b']\n",
            "Unique values in population: ['s' 'n' 'a' 'v' 'y' 'c']\n",
            "Unique values in habitat: ['u' 'g' 'm' 'd' 'p' 'w' 'l']\n"
          ]
        }
      ]
    },
    {
      "cell_type": "code",
      "metadata": {
        "id": "SC7b-yl1RuEh"
      },
      "source": [
        "y=df['class']"
      ],
      "execution_count": null,
      "outputs": []
    },
    {
      "cell_type": "code",
      "metadata": {
        "id": "bryoWPtRR-io"
      },
      "source": [
        "y[y=='p']=1\n",
        "y[y=='e']=0\n",
        "y=y.astype(np.uint8)"
      ],
      "execution_count": null,
      "outputs": []
    },
    {
      "cell_type": "code",
      "metadata": {
        "id": "pv4v2vRHSNa-"
      },
      "source": [
        "X=df.drop(['class'],axis=1)\n",
        "X_encoded=pd.get_dummies(X)"
      ],
      "execution_count": null,
      "outputs": []
    },
    {
      "cell_type": "code",
      "metadata": {
        "id": "UYuivo_ZSWiF"
      },
      "source": [
        "from sklearn.model_selection import train_test_split\n",
        "Xtrain,Xtest,ytrain,ytest=train_test_split(X_encoded,y,test_size=0.3,random_state=42)"
      ],
      "execution_count": null,
      "outputs": []
    },
    {
      "cell_type": "code",
      "metadata": {
        "id": "CP7lmaB9Soyr"
      },
      "source": [
        "from sklearn.tree import DecisionTreeClassifier\n",
        "classifier=DecisionTreeClassifier()\n",
        "dt=classifier.fit(Xtrain,ytrain)"
      ],
      "execution_count": null,
      "outputs": []
    },
    {
      "cell_type": "code",
      "metadata": {
        "id": "F-LSc7BmS-YO"
      },
      "source": [
        "from sklearn.tree import plot_tree\n",
        "from sklearn.model_selection import cross_val_score\n",
        "from sklearn.metrics import confusion_matrix\n",
        "from sklearn.metrics import plot_confusion_matrix\n",
        "import matplotlib.pyplot as plt\n"
      ],
      "execution_count": null,
      "outputs": []
    },
    {
      "cell_type": "code",
      "metadata": {
        "colab": {
          "base_uri": "https://localhost:8080/",
          "height": 959
        },
        "id": "7JH99tVBUCFA",
        "outputId": "517e252b-297b-4b12-d7f3-c9e0ba82bd2e"
      },
      "source": [
        "plt.figure(figsize=(16,8))\n",
        "plot_tree(dt,filled=True,class_names=['Edible','Poisonous'],feature_names=X_encoded.columns);"
      ],
      "execution_count": null,
      "outputs": [
        {
          "output_type": "execute_result",
          "data": {
            "text/plain": [
              "[Text(525.1764705882352, 407.7, 'odor_n <= 0.5\\ngini = 0.499\\nsamples = 5686\\nvalue = [2951, 2735]\\nclass = Edible'),\n",
              " Text(315.1058823529412, 353.34000000000003, 'stalk-root_c <= 0.5\\ngini = 0.28\\nsamples = 3191\\nvalue = [537, 2654]\\nclass = Poisonous'),\n",
              " Text(210.0705882352941, 298.98, 'stalk-root_r <= 0.5\\ngini = 0.122\\nsamples = 2809\\nvalue = [184, 2625]\\nclass = Poisonous'),\n",
              " Text(157.5529411764706, 244.62, 'odor_a <= 0.5\\ngini = 0.044\\nsamples = 2685\\nvalue = [60, 2625]\\nclass = Poisonous'),\n",
              " Text(105.03529411764706, 190.26, 'odor_l <= 0.5\\ngini = 0.022\\nsamples = 2654\\nvalue = [29, 2625]\\nclass = Poisonous'),\n",
              " Text(52.51764705882353, 135.89999999999998, 'gini = 0.0\\nsamples = 2625\\nvalue = [0, 2625]\\nclass = Poisonous'),\n",
              " Text(157.5529411764706, 135.89999999999998, 'gini = 0.0\\nsamples = 29\\nvalue = [29, 0]\\nclass = Edible'),\n",
              " Text(210.0705882352941, 190.26, 'gini = 0.0\\nsamples = 31\\nvalue = [31, 0]\\nclass = Edible'),\n",
              " Text(262.5882352941176, 244.62, 'gini = 0.0\\nsamples = 124\\nvalue = [124, 0]\\nclass = Edible'),\n",
              " Text(420.1411764705882, 298.98, 'bruises_f <= 0.5\\ngini = 0.14\\nsamples = 382\\nvalue = [353, 29]\\nclass = Edible'),\n",
              " Text(367.6235294117647, 244.62, 'gini = 0.0\\nsamples = 353\\nvalue = [353, 0]\\nclass = Edible'),\n",
              " Text(472.65882352941173, 244.62, 'gini = 0.0\\nsamples = 29\\nvalue = [0, 29]\\nclass = Poisonous'),\n",
              " Text(735.2470588235294, 353.34000000000003, 'spore-print-color_r <= 0.5\\ngini = 0.063\\nsamples = 2495\\nvalue = [2414, 81]\\nclass = Edible'),\n",
              " Text(682.7294117647059, 298.98, 'stalk-surface-below-ring_y <= 0.5\\ngini = 0.026\\nsamples = 2446\\nvalue = [2414, 32]\\nclass = Edible'),\n",
              " Text(577.6941176470588, 244.62, 'cap-shape_c <= 0.5\\ngini = 0.004\\nsamples = 2408\\nvalue = [2403, 5]\\nclass = Edible'),\n",
              " Text(525.1764705882352, 190.26, 'cap-surface_g <= 0.5\\ngini = 0.002\\nsamples = 2406\\nvalue = [2403, 3]\\nclass = Edible'),\n",
              " Text(472.65882352941173, 135.89999999999998, 'gill-size_b <= 0.5\\ngini = 0.002\\nsamples = 2405\\nvalue = [2403, 2]\\nclass = Edible'),\n",
              " Text(420.1411764705882, 81.54000000000002, 'population_c <= 0.5\\ngini = 0.029\\nsamples = 135\\nvalue = [133, 2]\\nclass = Edible'),\n",
              " Text(367.6235294117647, 27.180000000000007, 'gini = 0.0\\nsamples = 133\\nvalue = [133, 0]\\nclass = Edible'),\n",
              " Text(472.65882352941173, 27.180000000000007, 'gini = 0.0\\nsamples = 2\\nvalue = [0, 2]\\nclass = Poisonous'),\n",
              " Text(525.1764705882352, 81.54000000000002, 'gini = 0.0\\nsamples = 2270\\nvalue = [2270, 0]\\nclass = Edible'),\n",
              " Text(577.6941176470588, 135.89999999999998, 'gini = 0.0\\nsamples = 1\\nvalue = [0, 1]\\nclass = Poisonous'),\n",
              " Text(630.2117647058824, 190.26, 'gini = 0.0\\nsamples = 2\\nvalue = [0, 2]\\nclass = Poisonous'),\n",
              " Text(787.7647058823529, 244.62, 'ring-type_e <= 0.5\\ngini = 0.411\\nsamples = 38\\nvalue = [11, 27]\\nclass = Poisonous'),\n",
              " Text(735.2470588235294, 190.26, 'gini = 0.0\\nsamples = 11\\nvalue = [11, 0]\\nclass = Edible'),\n",
              " Text(840.2823529411764, 190.26, 'gini = 0.0\\nsamples = 27\\nvalue = [0, 27]\\nclass = Poisonous'),\n",
              " Text(787.7647058823529, 298.98, 'gini = 0.0\\nsamples = 49\\nvalue = [0, 49]\\nclass = Poisonous')]"
            ]
          },
          "metadata": {},
          "execution_count": 28
        },
        {
          "output_type": "display_data",
          "data": {
            "image/png": "[encoded data removed]",
            "text/plain": [
              "<Figure size 1152x576 with 1 Axes>"
            ]
          },
          "metadata": {
            "needs_background": "light"
          }
        }
      ]
    },
    {
      "cell_type": "code",
      "metadata": {
        "colab": {
          "base_uri": "https://localhost:8080/"
        },
        "id": "jvw1TJrAUc1V",
        "outputId": "c47e0e46-9a09-4ee8-98ef-1ee26c835166"
      },
      "source": [
        "score=cross_val_score(dt,Xtrain,ytrain,cv=5)\n",
        "for scores in score:\n",
        "  print('Accuracy:',round(scores,4))"
      ],
      "execution_count": null,
      "outputs": [
        {
          "output_type": "stream",
          "name": "stdout",
          "text": [
            "Accuracy: 1.0\n",
            "Accuracy: 1.0\n",
            "Accuracy: 1.0\n",
            "Accuracy: 1.0\n",
            "Accuracy: 0.9982\n"
          ]
        }
      ]
    },
    {
      "cell_type": "code",
      "metadata": {
        "colab": {
          "base_uri": "https://localhost:8080/",
          "height": 335
        },
        "id": "chFONHCjVYSt",
        "outputId": "be00d36c-5a7d-4f5f-857f-de8a270d4345"
      },
      "source": [
        "plot_confusion_matrix(dt,Xtest,ytest,display_labels=['Edible','Poisonous']);"
      ],
      "execution_count": null,
      "outputs": [
        {
          "output_type": "stream",
          "name": "stderr",
          "text": [
            "/usr/local/lib/python3.7/dist-packages/sklearn/utils/deprecation.py:87: FutureWarning: Function plot_confusion_matrix is deprecated; Function `plot_confusion_matrix` is deprecated in 1.0 and will be removed in 1.2. Use one of the class methods: ConfusionMatrixDisplay.from_predictions or ConfusionMatrixDisplay.from_estimator.\n",
            "  warnings.warn(msg, category=FutureWarning)\n"
          ]
        },
        {
          "output_type": "display_data",
          "data": {
            "image/png": "[encoded data removed]",
            "text/plain": [
              "<Figure size 432x288 with 2 Axes>"
            ]
          },
          "metadata": {
            "needs_background": "light"
          }
        }
      ]
    },
    {
      "cell_type": "code",
      "metadata": {
        "id": "wuc1NNg3V068"
      },
      "source": [
        ""
      ],
      "execution_count": null,
      "outputs": []
    }
  ]
}