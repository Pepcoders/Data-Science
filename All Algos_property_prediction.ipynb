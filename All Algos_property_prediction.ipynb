{
  "nbformat": 4,
  "nbformat_minor": 0,
  "metadata": {
    "colab": {
      "name": "property prediction",
      "provenance": [],
      "collapsed_sections": []
    },
    "kernelspec": {
      "name": "python3",
      "display_name": "Python 3"
    },
    "language_info": {
      "name": "python"
    }
  },
  "cells": [
    {
      "cell_type": "code",
      "metadata": {
        "id": "ATsW744g_qwC"
      },
      "source": [
        "import pandas as pd"
      ],
      "execution_count": null,
      "outputs": []
    },
    {
      "cell_type": "code",
      "metadata": {
        "id": "9dvSYPjp_wa8"
      },
      "source": [
        "housing = pd.read_csv(\"https://raw.githubusercontent.com/mohitgupta-omg/Kaggle-California-Housing-Prices/master/Data/housing.csv\")"
      ],
      "execution_count": null,
      "outputs": []
    },
    {
      "cell_type": "code",
      "metadata": {
        "colab": {
          "base_uri": "https://localhost:8080/",
          "height": 206
        },
        "id": "iNRNCWcgGxUq",
        "outputId": "54aae20a-69f3-4646-b463-09d2f4b6c70d"
      },
      "source": [
        "housing.head()"
      ],
      "execution_count": null,
      "outputs": [
        {
          "output_type": "execute_result",
          "data": {
            "text/html": [
              "<div>\n",
              "<style scoped>\n",
              "    .dataframe tbody tr th:only-of-type {\n",
              "        vertical-align: middle;\n",
              "    }\n",
              "\n",
              "    .dataframe tbody tr th {\n",
              "        vertical-align: top;\n",
              "    }\n",
              "\n",
              "    .dataframe thead th {\n",
              "        text-align: right;\n",
              "    }\n",
              "</style>\n",
              "<table border=\"1\" class=\"dataframe\">\n",
              "  <thead>\n",
              "    <tr style=\"text-align: right;\">\n",
              "      <th></th>\n",
              "      <th>longitude</th>\n",
              "      <th>latitude</th>\n",
              "      <th>housing_median_age</th>\n",
              "      <th>total_rooms</th>\n",
              "      <th>total_bedrooms</th>\n",
              "      <th>population</th>\n",
              "      <th>households</th>\n",
              "      <th>median_income</th>\n",
              "      <th>median_house_value</th>\n",
              "      <th>ocean_proximity</th>\n",
              "    </tr>\n",
              "  </thead>\n",
              "  <tbody>\n",
              "    <tr>\n",
              "      <th>0</th>\n",
              "      <td>-122.23</td>\n",
              "      <td>37.88</td>\n",
              "      <td>41.0</td>\n",
              "      <td>880.0</td>\n",
              "      <td>129.0</td>\n",
              "      <td>322.0</td>\n",
              "      <td>126.0</td>\n",
              "      <td>8.3252</td>\n",
              "      <td>452600.0</td>\n",
              "      <td>NEAR BAY</td>\n",
              "    </tr>\n",
              "    <tr>\n",
              "      <th>1</th>\n",
              "      <td>-122.22</td>\n",
              "      <td>37.86</td>\n",
              "      <td>21.0</td>\n",
              "      <td>7099.0</td>\n",
              "      <td>1106.0</td>\n",
              "      <td>2401.0</td>\n",
              "      <td>1138.0</td>\n",
              "      <td>8.3014</td>\n",
              "      <td>358500.0</td>\n",
              "      <td>NEAR BAY</td>\n",
              "    </tr>\n",
              "    <tr>\n",
              "      <th>2</th>\n",
              "      <td>-122.24</td>\n",
              "      <td>37.85</td>\n",
              "      <td>52.0</td>\n",
              "      <td>1467.0</td>\n",
              "      <td>190.0</td>\n",
              "      <td>496.0</td>\n",
              "      <td>177.0</td>\n",
              "      <td>7.2574</td>\n",
              "      <td>352100.0</td>\n",
              "      <td>NEAR BAY</td>\n",
              "    </tr>\n",
              "    <tr>\n",
              "      <th>3</th>\n",
              "      <td>-122.25</td>\n",
              "      <td>37.85</td>\n",
              "      <td>52.0</td>\n",
              "      <td>1274.0</td>\n",
              "      <td>235.0</td>\n",
              "      <td>558.0</td>\n",
              "      <td>219.0</td>\n",
              "      <td>5.6431</td>\n",
              "      <td>341300.0</td>\n",
              "      <td>NEAR BAY</td>\n",
              "    </tr>\n",
              "    <tr>\n",
              "      <th>4</th>\n",
              "      <td>-122.25</td>\n",
              "      <td>37.85</td>\n",
              "      <td>52.0</td>\n",
              "      <td>1627.0</td>\n",
              "      <td>280.0</td>\n",
              "      <td>565.0</td>\n",
              "      <td>259.0</td>\n",
              "      <td>3.8462</td>\n",
              "      <td>342200.0</td>\n",
              "      <td>NEAR BAY</td>\n",
              "    </tr>\n",
              "  </tbody>\n",
              "</table>\n",
              "</div>"
            ],
            "text/plain": [
              "   longitude  latitude  ...  median_house_value  ocean_proximity\n",
              "0    -122.23     37.88  ...            452600.0         NEAR BAY\n",
              "1    -122.22     37.86  ...            358500.0         NEAR BAY\n",
              "2    -122.24     37.85  ...            352100.0         NEAR BAY\n",
              "3    -122.25     37.85  ...            341300.0         NEAR BAY\n",
              "4    -122.25     37.85  ...            342200.0         NEAR BAY\n",
              "\n",
              "[5 rows x 10 columns]"
            ]
          },
          "metadata": {},
          "execution_count": 3
        }
      ]
    },
    {
      "cell_type": "code",
      "metadata": {
        "colab": {
          "base_uri": "https://localhost:8080/"
        },
        "id": "lIKj8jGeG0dB",
        "outputId": "696679dc-0944-45f6-a33c-99b7f0b54075"
      },
      "source": [
        "housing.info()"
      ],
      "execution_count": null,
      "outputs": [
        {
          "output_type": "stream",
          "name": "stdout",
          "text": [
            "<class 'pandas.core.frame.DataFrame'>\n",
            "RangeIndex: 20640 entries, 0 to 20639\n",
            "Data columns (total 10 columns):\n",
            " #   Column              Non-Null Count  Dtype  \n",
            "---  ------              --------------  -----  \n",
            " 0   longitude           20640 non-null  float64\n",
            " 1   latitude            20640 non-null  float64\n",
            " 2   housing_median_age  20640 non-null  float64\n",
            " 3   total_rooms         20640 non-null  float64\n",
            " 4   total_bedrooms      20433 non-null  float64\n",
            " 5   population          20640 non-null  float64\n",
            " 6   households          20640 non-null  float64\n",
            " 7   median_income       20640 non-null  float64\n",
            " 8   median_house_value  20640 non-null  float64\n",
            " 9   ocean_proximity     20640 non-null  object \n",
            "dtypes: float64(9), object(1)\n",
            "memory usage: 1.6+ MB\n"
          ]
        }
      ]
    },
    {
      "cell_type": "code",
      "metadata": {
        "id": "rQoLRjqmG3gs"
      },
      "source": [
        "corrM = housing.corr()"
      ],
      "execution_count": null,
      "outputs": []
    },
    {
      "cell_type": "code",
      "metadata": {
        "colab": {
          "base_uri": "https://localhost:8080/"
        },
        "id": "gWcbeSdiHnJN",
        "outputId": "78dff0a0-8589-40bb-b78c-cb343777e9e6"
      },
      "source": [
        "corrM[\"median_house_value\"].sort_values(ascending = False)"
      ],
      "execution_count": null,
      "outputs": [
        {
          "output_type": "execute_result",
          "data": {
            "text/plain": [
              "median_house_value    1.000000\n",
              "median_income         0.688075\n",
              "total_rooms           0.134153\n",
              "housing_median_age    0.105623\n",
              "households            0.065843\n",
              "total_bedrooms        0.049686\n",
              "population           -0.024650\n",
              "longitude            -0.045967\n",
              "latitude             -0.144160\n",
              "Name: median_house_value, dtype: float64"
            ]
          },
          "metadata": {},
          "execution_count": 6
        }
      ]
    },
    {
      "cell_type": "code",
      "metadata": {
        "id": "E5KYmE2gPgEZ"
      },
      "source": [
        "from pandas.plotting import scatter_matrix"
      ],
      "execution_count": null,
      "outputs": []
    },
    {
      "cell_type": "code",
      "metadata": {
        "colab": {
          "base_uri": "https://localhost:8080/",
          "height": 691
        },
        "id": "AX8A3oPjQiC-",
        "outputId": "8595b04f-a601-40ce-e8bd-702ea2c2ca81"
      },
      "source": [
        "attributes = [\"median_house_value\", \"median_income\", \"total_rooms\"]\n",
        "scatter_matrix(housing[attributes], figsize= (12,8))"
      ],
      "execution_count": null,
      "outputs": [
        {
          "output_type": "execute_result",
          "data": {
            "text/plain": [
              "array([[<matplotlib.axes._subplots.AxesSubplot object at 0x7f8e6ea1b910>,\n",
              "        <matplotlib.axes._subplots.AxesSubplot object at 0x7f8e6e972b50>,\n",
              "        <matplotlib.axes._subplots.AxesSubplot object at 0x7f8e6e938150>],\n",
              "       [<matplotlib.axes._subplots.AxesSubplot object at 0x7f8e6e8ec790>,\n",
              "        <matplotlib.axes._subplots.AxesSubplot object at 0x7f8e6e8a4d90>,\n",
              "        <matplotlib.axes._subplots.AxesSubplot object at 0x7f8e6e8673d0>],\n",
              "       [<matplotlib.axes._subplots.AxesSubplot object at 0x7f8e6e81da50>,\n",
              "        <matplotlib.axes._subplots.AxesSubplot object at 0x7f8e6e846b10>,\n",
              "        <matplotlib.axes._subplots.AxesSubplot object at 0x7f8e6e7de050>]],\n",
              "      dtype=object)"
            ]
          },
          "metadata": {},
          "execution_count": 8
        },
        {
          "output_type": "display_data",
          "data": {
            "image/png": "[encoded data removed]",
            "text/plain": [
              "<Figure size 864x576 with 9 Axes>"
            ]
          },
          "metadata": {
            "needs_background": "light"
          }
        }
      ]
    },
    {
      "cell_type": "code",
      "metadata": {
        "id": "LzknGxdRR8o5"
      },
      "source": [
        "housing[\"bedroom_per_rooms\"] = housing[\"total_bedrooms\"]/housing[\"total_rooms\"]\n",
        "housing[\"rooms_per_households\"] = housing[\"total_rooms\"]/housing[\"households\"]\n",
        "housing[\"population_per_households\"] = housing[\"population\"]/housing[\"households\"]"
      ],
      "execution_count": null,
      "outputs": []
    },
    {
      "cell_type": "code",
      "metadata": {
        "colab": {
          "base_uri": "https://localhost:8080/",
          "height": 226
        },
        "id": "TrRxxcJjUVlL",
        "outputId": "e88d5c8f-5f61-408b-e6ab-99a369faee8f"
      },
      "source": [
        "housing.head()"
      ],
      "execution_count": null,
      "outputs": [
        {
          "output_type": "execute_result",
          "data": {
            "text/html": [
              "<div>\n",
              "<style scoped>\n",
              "    .dataframe tbody tr th:only-of-type {\n",
              "        vertical-align: middle;\n",
              "    }\n",
              "\n",
              "    .dataframe tbody tr th {\n",
              "        vertical-align: top;\n",
              "    }\n",
              "\n",
              "    .dataframe thead th {\n",
              "        text-align: right;\n",
              "    }\n",
              "</style>\n",
              "<table border=\"1\" class=\"dataframe\">\n",
              "  <thead>\n",
              "    <tr style=\"text-align: right;\">\n",
              "      <th></th>\n",
              "      <th>longitude</th>\n",
              "      <th>latitude</th>\n",
              "      <th>housing_median_age</th>\n",
              "      <th>total_rooms</th>\n",
              "      <th>total_bedrooms</th>\n",
              "      <th>population</th>\n",
              "      <th>households</th>\n",
              "      <th>median_income</th>\n",
              "      <th>median_house_value</th>\n",
              "      <th>ocean_proximity</th>\n",
              "      <th>bedroom_per_rooms</th>\n",
              "      <th>rooms_per_households</th>\n",
              "      <th>population_per_households</th>\n",
              "    </tr>\n",
              "  </thead>\n",
              "  <tbody>\n",
              "    <tr>\n",
              "      <th>0</th>\n",
              "      <td>-122.23</td>\n",
              "      <td>37.88</td>\n",
              "      <td>41.0</td>\n",
              "      <td>880.0</td>\n",
              "      <td>129.0</td>\n",
              "      <td>322.0</td>\n",
              "      <td>126.0</td>\n",
              "      <td>8.3252</td>\n",
              "      <td>452600.0</td>\n",
              "      <td>NEAR BAY</td>\n",
              "      <td>0.146591</td>\n",
              "      <td>6.984127</td>\n",
              "      <td>2.555556</td>\n",
              "    </tr>\n",
              "    <tr>\n",
              "      <th>1</th>\n",
              "      <td>-122.22</td>\n",
              "      <td>37.86</td>\n",
              "      <td>21.0</td>\n",
              "      <td>7099.0</td>\n",
              "      <td>1106.0</td>\n",
              "      <td>2401.0</td>\n",
              "      <td>1138.0</td>\n",
              "      <td>8.3014</td>\n",
              "      <td>358500.0</td>\n",
              "      <td>NEAR BAY</td>\n",
              "      <td>0.155797</td>\n",
              "      <td>6.238137</td>\n",
              "      <td>2.109842</td>\n",
              "    </tr>\n",
              "    <tr>\n",
              "      <th>2</th>\n",
              "      <td>-122.24</td>\n",
              "      <td>37.85</td>\n",
              "      <td>52.0</td>\n",
              "      <td>1467.0</td>\n",
              "      <td>190.0</td>\n",
              "      <td>496.0</td>\n",
              "      <td>177.0</td>\n",
              "      <td>7.2574</td>\n",
              "      <td>352100.0</td>\n",
              "      <td>NEAR BAY</td>\n",
              "      <td>0.129516</td>\n",
              "      <td>8.288136</td>\n",
              "      <td>2.802260</td>\n",
              "    </tr>\n",
              "    <tr>\n",
              "      <th>3</th>\n",
              "      <td>-122.25</td>\n",
              "      <td>37.85</td>\n",
              "      <td>52.0</td>\n",
              "      <td>1274.0</td>\n",
              "      <td>235.0</td>\n",
              "      <td>558.0</td>\n",
              "      <td>219.0</td>\n",
              "      <td>5.6431</td>\n",
              "      <td>341300.0</td>\n",
              "      <td>NEAR BAY</td>\n",
              "      <td>0.184458</td>\n",
              "      <td>5.817352</td>\n",
              "      <td>2.547945</td>\n",
              "    </tr>\n",
              "    <tr>\n",
              "      <th>4</th>\n",
              "      <td>-122.25</td>\n",
              "      <td>37.85</td>\n",
              "      <td>52.0</td>\n",
              "      <td>1627.0</td>\n",
              "      <td>280.0</td>\n",
              "      <td>565.0</td>\n",
              "      <td>259.0</td>\n",
              "      <td>3.8462</td>\n",
              "      <td>342200.0</td>\n",
              "      <td>NEAR BAY</td>\n",
              "      <td>0.172096</td>\n",
              "      <td>6.281853</td>\n",
              "      <td>2.181467</td>\n",
              "    </tr>\n",
              "  </tbody>\n",
              "</table>\n",
              "</div>"
            ],
            "text/plain": [
              "   longitude  latitude  ...  rooms_per_households  population_per_households\n",
              "0    -122.23     37.88  ...              6.984127                   2.555556\n",
              "1    -122.22     37.86  ...              6.238137                   2.109842\n",
              "2    -122.24     37.85  ...              8.288136                   2.802260\n",
              "3    -122.25     37.85  ...              5.817352                   2.547945\n",
              "4    -122.25     37.85  ...              6.281853                   2.181467\n",
              "\n",
              "[5 rows x 13 columns]"
            ]
          },
          "metadata": {},
          "execution_count": 10
        }
      ]
    },
    {
      "cell_type": "code",
      "metadata": {
        "colab": {
          "base_uri": "https://localhost:8080/"
        },
        "id": "6KDJYqjJUXzq",
        "outputId": "10b97638-46ad-498e-c630-29a0e7d46342"
      },
      "source": [
        "housing.corr()[\"median_house_value\"].sort_values(ascending=False)"
      ],
      "execution_count": null,
      "outputs": [
        {
          "output_type": "execute_result",
          "data": {
            "text/plain": [
              "median_house_value           1.000000\n",
              "median_income                0.688075\n",
              "rooms_per_households         0.151948\n",
              "total_rooms                  0.134153\n",
              "housing_median_age           0.105623\n",
              "households                   0.065843\n",
              "total_bedrooms               0.049686\n",
              "population_per_households   -0.023737\n",
              "population                  -0.024650\n",
              "longitude                   -0.045967\n",
              "latitude                    -0.144160\n",
              "bedroom_per_rooms           -0.255880\n",
              "Name: median_house_value, dtype: float64"
            ]
          },
          "metadata": {},
          "execution_count": 11
        }
      ]
    },
    {
      "cell_type": "code",
      "metadata": {
        "id": "TMN1JolXUm6B"
      },
      "source": [
        "housing = housing.drop(\"ocean_proximity\", axis = 1)"
      ],
      "execution_count": null,
      "outputs": []
    },
    {
      "cell_type": "code",
      "metadata": {
        "colab": {
          "base_uri": "https://localhost:8080/",
          "height": 224
        },
        "id": "9m8-Z5SJVtxU",
        "outputId": "b61e68a7-7e76-4013-ab39-f67dd96ca112"
      },
      "source": [
        "housing.head()"
      ],
      "execution_count": null,
      "outputs": [
        {
          "output_type": "execute_result",
          "data": {
            "text/html": [
              "<div>\n",
              "<style scoped>\n",
              "    .dataframe tbody tr th:only-of-type {\n",
              "        vertical-align: middle;\n",
              "    }\n",
              "\n",
              "    .dataframe tbody tr th {\n",
              "        vertical-align: top;\n",
              "    }\n",
              "\n",
              "    .dataframe thead th {\n",
              "        text-align: right;\n",
              "    }\n",
              "</style>\n",
              "<table border=\"1\" class=\"dataframe\">\n",
              "  <thead>\n",
              "    <tr style=\"text-align: right;\">\n",
              "      <th></th>\n",
              "      <th>longitude</th>\n",
              "      <th>latitude</th>\n",
              "      <th>housing_median_age</th>\n",
              "      <th>total_rooms</th>\n",
              "      <th>total_bedrooms</th>\n",
              "      <th>population</th>\n",
              "      <th>households</th>\n",
              "      <th>median_income</th>\n",
              "      <th>median_house_value</th>\n",
              "      <th>ocean_proximity</th>\n",
              "      <th>bedroom_per_rooms</th>\n",
              "      <th>rooms_per_households</th>\n",
              "      <th>population_per_households</th>\n",
              "    </tr>\n",
              "  </thead>\n",
              "  <tbody>\n",
              "    <tr>\n",
              "      <th>0</th>\n",
              "      <td>-122.23</td>\n",
              "      <td>37.88</td>\n",
              "      <td>41.0</td>\n",
              "      <td>880.0</td>\n",
              "      <td>129.0</td>\n",
              "      <td>322.0</td>\n",
              "      <td>126.0</td>\n",
              "      <td>8.3252</td>\n",
              "      <td>452600.0</td>\n",
              "      <td>NEAR BAY</td>\n",
              "      <td>0.146591</td>\n",
              "      <td>6.984127</td>\n",
              "      <td>2.555556</td>\n",
              "    </tr>\n",
              "    <tr>\n",
              "      <th>1</th>\n",
              "      <td>-122.22</td>\n",
              "      <td>37.86</td>\n",
              "      <td>21.0</td>\n",
              "      <td>7099.0</td>\n",
              "      <td>1106.0</td>\n",
              "      <td>2401.0</td>\n",
              "      <td>1138.0</td>\n",
              "      <td>8.3014</td>\n",
              "      <td>358500.0</td>\n",
              "      <td>NEAR BAY</td>\n",
              "      <td>0.155797</td>\n",
              "      <td>6.238137</td>\n",
              "      <td>2.109842</td>\n",
              "    </tr>\n",
              "    <tr>\n",
              "      <th>2</th>\n",
              "      <td>-122.24</td>\n",
              "      <td>37.85</td>\n",
              "      <td>52.0</td>\n",
              "      <td>1467.0</td>\n",
              "      <td>190.0</td>\n",
              "      <td>496.0</td>\n",
              "      <td>177.0</td>\n",
              "      <td>7.2574</td>\n",
              "      <td>352100.0</td>\n",
              "      <td>NEAR BAY</td>\n",
              "      <td>0.129516</td>\n",
              "      <td>8.288136</td>\n",
              "      <td>2.802260</td>\n",
              "    </tr>\n",
              "    <tr>\n",
              "      <th>3</th>\n",
              "      <td>-122.25</td>\n",
              "      <td>37.85</td>\n",
              "      <td>52.0</td>\n",
              "      <td>1274.0</td>\n",
              "      <td>235.0</td>\n",
              "      <td>558.0</td>\n",
              "      <td>219.0</td>\n",
              "      <td>5.6431</td>\n",
              "      <td>341300.0</td>\n",
              "      <td>NEAR BAY</td>\n",
              "      <td>0.184458</td>\n",
              "      <td>5.817352</td>\n",
              "      <td>2.547945</td>\n",
              "    </tr>\n",
              "    <tr>\n",
              "      <th>4</th>\n",
              "      <td>-122.25</td>\n",
              "      <td>37.85</td>\n",
              "      <td>52.0</td>\n",
              "      <td>1627.0</td>\n",
              "      <td>280.0</td>\n",
              "      <td>565.0</td>\n",
              "      <td>259.0</td>\n",
              "      <td>3.8462</td>\n",
              "      <td>342200.0</td>\n",
              "      <td>NEAR BAY</td>\n",
              "      <td>0.172096</td>\n",
              "      <td>6.281853</td>\n",
              "      <td>2.181467</td>\n",
              "    </tr>\n",
              "  </tbody>\n",
              "</table>\n",
              "</div>"
            ],
            "text/plain": [
              "   longitude  latitude  ...  rooms_per_households  population_per_households\n",
              "0    -122.23     37.88  ...              6.984127                   2.555556\n",
              "1    -122.22     37.86  ...              6.238137                   2.109842\n",
              "2    -122.24     37.85  ...              8.288136                   2.802260\n",
              "3    -122.25     37.85  ...              5.817352                   2.547945\n",
              "4    -122.25     37.85  ...              6.281853                   2.181467\n",
              "\n",
              "[5 rows x 13 columns]"
            ]
          },
          "metadata": {},
          "execution_count": 10
        }
      ]
    },
    {
      "cell_type": "code",
      "metadata": {
        "colab": {
          "base_uri": "https://localhost:8080/"
        },
        "id": "TN_9mGDsVzNE",
        "outputId": "f836644f-5976-49f7-dc8b-df10f16e3692"
      },
      "source": [
        "housing.info()"
      ],
      "execution_count": null,
      "outputs": [
        {
          "output_type": "stream",
          "name": "stdout",
          "text": [
            "<class 'pandas.core.frame.DataFrame'>\n",
            "RangeIndex: 20640 entries, 0 to 20639\n",
            "Data columns (total 13 columns):\n",
            " #   Column                     Non-Null Count  Dtype  \n",
            "---  ------                     --------------  -----  \n",
            " 0   longitude                  20640 non-null  float64\n",
            " 1   latitude                   20640 non-null  float64\n",
            " 2   housing_median_age         20640 non-null  float64\n",
            " 3   total_rooms                20640 non-null  float64\n",
            " 4   total_bedrooms             20433 non-null  float64\n",
            " 5   population                 20640 non-null  float64\n",
            " 6   households                 20640 non-null  float64\n",
            " 7   median_income              20640 non-null  float64\n",
            " 8   median_house_value         20640 non-null  float64\n",
            " 9   ocean_proximity            20640 non-null  object \n",
            " 10  bedroom_per_rooms          20433 non-null  float64\n",
            " 11  rooms_per_households       20640 non-null  float64\n",
            " 12  population_per_households  20640 non-null  float64\n",
            "dtypes: float64(12), object(1)\n",
            "memory usage: 2.0+ MB\n"
          ]
        }
      ]
    },
    {
      "cell_type": "code",
      "metadata": {
        "id": "JQvUlIYWV7yA"
      },
      "source": [
        "median = housing[\"total_bedrooms\"].median()"
      ],
      "execution_count": null,
      "outputs": []
    },
    {
      "cell_type": "code",
      "metadata": {
        "id": "MB7AEYqkWjeg"
      },
      "source": [
        "housing[\"total_bedrooms\"].fillna(median, inplace = True)"
      ],
      "execution_count": null,
      "outputs": []
    },
    {
      "cell_type": "code",
      "metadata": {
        "colab": {
          "base_uri": "https://localhost:8080/"
        },
        "id": "Wf2D2u-BWsFC",
        "outputId": "7e6ad7e2-1316-4ad2-cee4-1497ea4a7f2d"
      },
      "source": [
        "housing.info()"
      ],
      "execution_count": null,
      "outputs": [
        {
          "output_type": "stream",
          "name": "stdout",
          "text": [
            "<class 'pandas.core.frame.DataFrame'>\n",
            "RangeIndex: 20640 entries, 0 to 20639\n",
            "Data columns (total 13 columns):\n",
            " #   Column                     Non-Null Count  Dtype  \n",
            "---  ------                     --------------  -----  \n",
            " 0   longitude                  20640 non-null  float64\n",
            " 1   latitude                   20640 non-null  float64\n",
            " 2   housing_median_age         20640 non-null  float64\n",
            " 3   total_rooms                20640 non-null  float64\n",
            " 4   total_bedrooms             20640 non-null  float64\n",
            " 5   population                 20640 non-null  float64\n",
            " 6   households                 20640 non-null  float64\n",
            " 7   median_income              20640 non-null  float64\n",
            " 8   median_house_value         20640 non-null  float64\n",
            " 9   ocean_proximity            20640 non-null  object \n",
            " 10  bedroom_per_rooms          20640 non-null  float64\n",
            " 11  rooms_per_households       20640 non-null  float64\n",
            " 12  population_per_households  20640 non-null  float64\n",
            "dtypes: float64(12), object(1)\n",
            "memory usage: 2.0+ MB\n"
          ]
        }
      ]
    },
    {
      "cell_type": "code",
      "metadata": {
        "id": "m1Pl-PyZWxt0"
      },
      "source": [
        "median_per = housing[\"bedroom_per_rooms\"].median()\n",
        "housing[\"bedroom_per_rooms\"].fillna(median_per, inplace= True)"
      ],
      "execution_count": null,
      "outputs": []
    },
    {
      "cell_type": "code",
      "metadata": {
        "colab": {
          "base_uri": "https://localhost:8080/"
        },
        "id": "xxZgDHx9XDU2",
        "outputId": "ce8e7bbc-5e51-4a25-b8ed-79633124b1b5"
      },
      "source": [
        "housing.info()"
      ],
      "execution_count": null,
      "outputs": [
        {
          "output_type": "stream",
          "name": "stdout",
          "text": [
            "<class 'pandas.core.frame.DataFrame'>\n",
            "RangeIndex: 20640 entries, 0 to 20639\n",
            "Data columns (total 13 columns):\n",
            " #   Column                     Non-Null Count  Dtype  \n",
            "---  ------                     --------------  -----  \n",
            " 0   longitude                  20640 non-null  float64\n",
            " 1   latitude                   20640 non-null  float64\n",
            " 2   housing_median_age         20640 non-null  float64\n",
            " 3   total_rooms                20640 non-null  float64\n",
            " 4   total_bedrooms             20640 non-null  float64\n",
            " 5   population                 20640 non-null  float64\n",
            " 6   households                 20640 non-null  float64\n",
            " 7   median_income              20640 non-null  float64\n",
            " 8   median_house_value         20640 non-null  float64\n",
            " 9   ocean_proximity            20640 non-null  object \n",
            " 10  bedroom_per_rooms          20640 non-null  float64\n",
            " 11  rooms_per_households       20640 non-null  float64\n",
            " 12  population_per_households  20640 non-null  float64\n",
            "dtypes: float64(12), object(1)\n",
            "memory usage: 2.0+ MB\n"
          ]
        }
      ]
    },
    {
      "cell_type": "code",
      "metadata": {
        "colab": {
          "base_uri": "https://localhost:8080/",
          "height": 224
        },
        "id": "QKcJ-M2vXL4H",
        "outputId": "fd070bc7-ff4d-4684-9864-934bea022be6"
      },
      "source": [
        "housing.head()"
      ],
      "execution_count": null,
      "outputs": [
        {
          "output_type": "execute_result",
          "data": {
            "text/html": [
              "<div>\n",
              "<style scoped>\n",
              "    .dataframe tbody tr th:only-of-type {\n",
              "        vertical-align: middle;\n",
              "    }\n",
              "\n",
              "    .dataframe tbody tr th {\n",
              "        vertical-align: top;\n",
              "    }\n",
              "\n",
              "    .dataframe thead th {\n",
              "        text-align: right;\n",
              "    }\n",
              "</style>\n",
              "<table border=\"1\" class=\"dataframe\">\n",
              "  <thead>\n",
              "    <tr style=\"text-align: right;\">\n",
              "      <th></th>\n",
              "      <th>longitude</th>\n",
              "      <th>latitude</th>\n",
              "      <th>housing_median_age</th>\n",
              "      <th>total_rooms</th>\n",
              "      <th>total_bedrooms</th>\n",
              "      <th>population</th>\n",
              "      <th>households</th>\n",
              "      <th>median_income</th>\n",
              "      <th>median_house_value</th>\n",
              "      <th>ocean_proximity</th>\n",
              "      <th>bedroom_per_rooms</th>\n",
              "      <th>rooms_per_households</th>\n",
              "      <th>population_per_households</th>\n",
              "    </tr>\n",
              "  </thead>\n",
              "  <tbody>\n",
              "    <tr>\n",
              "      <th>0</th>\n",
              "      <td>-122.23</td>\n",
              "      <td>37.88</td>\n",
              "      <td>41.0</td>\n",
              "      <td>880.0</td>\n",
              "      <td>129.0</td>\n",
              "      <td>322.0</td>\n",
              "      <td>126.0</td>\n",
              "      <td>8.3252</td>\n",
              "      <td>452600.0</td>\n",
              "      <td>NEAR BAY</td>\n",
              "      <td>0.146591</td>\n",
              "      <td>6.984127</td>\n",
              "      <td>2.555556</td>\n",
              "    </tr>\n",
              "    <tr>\n",
              "      <th>1</th>\n",
              "      <td>-122.22</td>\n",
              "      <td>37.86</td>\n",
              "      <td>21.0</td>\n",
              "      <td>7099.0</td>\n",
              "      <td>1106.0</td>\n",
              "      <td>2401.0</td>\n",
              "      <td>1138.0</td>\n",
              "      <td>8.3014</td>\n",
              "      <td>358500.0</td>\n",
              "      <td>NEAR BAY</td>\n",
              "      <td>0.155797</td>\n",
              "      <td>6.238137</td>\n",
              "      <td>2.109842</td>\n",
              "    </tr>\n",
              "    <tr>\n",
              "      <th>2</th>\n",
              "      <td>-122.24</td>\n",
              "      <td>37.85</td>\n",
              "      <td>52.0</td>\n",
              "      <td>1467.0</td>\n",
              "      <td>190.0</td>\n",
              "      <td>496.0</td>\n",
              "      <td>177.0</td>\n",
              "      <td>7.2574</td>\n",
              "      <td>352100.0</td>\n",
              "      <td>NEAR BAY</td>\n",
              "      <td>0.129516</td>\n",
              "      <td>8.288136</td>\n",
              "      <td>2.802260</td>\n",
              "    </tr>\n",
              "    <tr>\n",
              "      <th>3</th>\n",
              "      <td>-122.25</td>\n",
              "      <td>37.85</td>\n",
              "      <td>52.0</td>\n",
              "      <td>1274.0</td>\n",
              "      <td>235.0</td>\n",
              "      <td>558.0</td>\n",
              "      <td>219.0</td>\n",
              "      <td>5.6431</td>\n",
              "      <td>341300.0</td>\n",
              "      <td>NEAR BAY</td>\n",
              "      <td>0.184458</td>\n",
              "      <td>5.817352</td>\n",
              "      <td>2.547945</td>\n",
              "    </tr>\n",
              "    <tr>\n",
              "      <th>4</th>\n",
              "      <td>-122.25</td>\n",
              "      <td>37.85</td>\n",
              "      <td>52.0</td>\n",
              "      <td>1627.0</td>\n",
              "      <td>280.0</td>\n",
              "      <td>565.0</td>\n",
              "      <td>259.0</td>\n",
              "      <td>3.8462</td>\n",
              "      <td>342200.0</td>\n",
              "      <td>NEAR BAY</td>\n",
              "      <td>0.172096</td>\n",
              "      <td>6.281853</td>\n",
              "      <td>2.181467</td>\n",
              "    </tr>\n",
              "  </tbody>\n",
              "</table>\n",
              "</div>"
            ],
            "text/plain": [
              "   longitude  latitude  ...  rooms_per_households  population_per_households\n",
              "0    -122.23     37.88  ...              6.984127                   2.555556\n",
              "1    -122.22     37.86  ...              6.238137                   2.109842\n",
              "2    -122.24     37.85  ...              8.288136                   2.802260\n",
              "3    -122.25     37.85  ...              5.817352                   2.547945\n",
              "4    -122.25     37.85  ...              6.281853                   2.181467\n",
              "\n",
              "[5 rows x 13 columns]"
            ]
          },
          "metadata": {},
          "execution_count": 19
        }
      ]
    },
    {
      "cell_type": "code",
      "metadata": {
        "colab": {
          "base_uri": "https://localhost:8080/"
        },
        "id": "dw2POedbgcSV",
        "outputId": "4a33e7aa-0cfa-45e9-f91d-72cd1f5426f1"
      },
      "source": [
        "unique_values = housing[\"ocean_proximity\"].unique()\n",
        "unique_values"
      ],
      "execution_count": null,
      "outputs": [
        {
          "output_type": "execute_result",
          "data": {
            "text/plain": [
              "array(['NEAR BAY', '<1H OCEAN', 'INLAND', 'NEAR OCEAN', 'ISLAND'],\n",
              "      dtype=object)"
            ]
          },
          "metadata": {},
          "execution_count": 20
        }
      ]
    },
    {
      "cell_type": "code",
      "metadata": {
        "colab": {
          "base_uri": "https://localhost:8080/",
          "height": 241
        },
        "id": "nlmzvV4FpC9_",
        "outputId": "01ebf95c-45a4-4fe3-a756-8a27bf9dca5b"
      },
      "source": [
        "import numpy as np\n",
        "\n",
        "for col in unique_values:\n",
        "  housing[col] = np.where(housing['ocean_proximity'] == col, 1, 0)\n",
        "housing.head()"
      ],
      "execution_count": null,
      "outputs": [
        {
          "output_type": "execute_result",
          "data": {
            "text/html": [
              "<div>\n",
              "<style scoped>\n",
              "    .dataframe tbody tr th:only-of-type {\n",
              "        vertical-align: middle;\n",
              "    }\n",
              "\n",
              "    .dataframe tbody tr th {\n",
              "        vertical-align: top;\n",
              "    }\n",
              "\n",
              "    .dataframe thead th {\n",
              "        text-align: right;\n",
              "    }\n",
              "</style>\n",
              "<table border=\"1\" class=\"dataframe\">\n",
              "  <thead>\n",
              "    <tr style=\"text-align: right;\">\n",
              "      <th></th>\n",
              "      <th>longitude</th>\n",
              "      <th>latitude</th>\n",
              "      <th>housing_median_age</th>\n",
              "      <th>total_rooms</th>\n",
              "      <th>total_bedrooms</th>\n",
              "      <th>population</th>\n",
              "      <th>households</th>\n",
              "      <th>median_income</th>\n",
              "      <th>median_house_value</th>\n",
              "      <th>ocean_proximity</th>\n",
              "      <th>bedroom_per_rooms</th>\n",
              "      <th>rooms_per_households</th>\n",
              "      <th>population_per_households</th>\n",
              "      <th>NEAR BAY</th>\n",
              "      <th>&lt;1H OCEAN</th>\n",
              "      <th>INLAND</th>\n",
              "      <th>NEAR OCEAN</th>\n",
              "      <th>ISLAND</th>\n",
              "    </tr>\n",
              "  </thead>\n",
              "  <tbody>\n",
              "    <tr>\n",
              "      <th>0</th>\n",
              "      <td>-122.23</td>\n",
              "      <td>37.88</td>\n",
              "      <td>41.0</td>\n",
              "      <td>880.0</td>\n",
              "      <td>129.0</td>\n",
              "      <td>322.0</td>\n",
              "      <td>126.0</td>\n",
              "      <td>8.3252</td>\n",
              "      <td>452600.0</td>\n",
              "      <td>NEAR BAY</td>\n",
              "      <td>0.146591</td>\n",
              "      <td>6.984127</td>\n",
              "      <td>2.555556</td>\n",
              "      <td>1</td>\n",
              "      <td>0</td>\n",
              "      <td>0</td>\n",
              "      <td>0</td>\n",
              "      <td>0</td>\n",
              "    </tr>\n",
              "    <tr>\n",
              "      <th>1</th>\n",
              "      <td>-122.22</td>\n",
              "      <td>37.86</td>\n",
              "      <td>21.0</td>\n",
              "      <td>7099.0</td>\n",
              "      <td>1106.0</td>\n",
              "      <td>2401.0</td>\n",
              "      <td>1138.0</td>\n",
              "      <td>8.3014</td>\n",
              "      <td>358500.0</td>\n",
              "      <td>NEAR BAY</td>\n",
              "      <td>0.155797</td>\n",
              "      <td>6.238137</td>\n",
              "      <td>2.109842</td>\n",
              "      <td>1</td>\n",
              "      <td>0</td>\n",
              "      <td>0</td>\n",
              "      <td>0</td>\n",
              "      <td>0</td>\n",
              "    </tr>\n",
              "    <tr>\n",
              "      <th>2</th>\n",
              "      <td>-122.24</td>\n",
              "      <td>37.85</td>\n",
              "      <td>52.0</td>\n",
              "      <td>1467.0</td>\n",
              "      <td>190.0</td>\n",
              "      <td>496.0</td>\n",
              "      <td>177.0</td>\n",
              "      <td>7.2574</td>\n",
              "      <td>352100.0</td>\n",
              "      <td>NEAR BAY</td>\n",
              "      <td>0.129516</td>\n",
              "      <td>8.288136</td>\n",
              "      <td>2.802260</td>\n",
              "      <td>1</td>\n",
              "      <td>0</td>\n",
              "      <td>0</td>\n",
              "      <td>0</td>\n",
              "      <td>0</td>\n",
              "    </tr>\n",
              "    <tr>\n",
              "      <th>3</th>\n",
              "      <td>-122.25</td>\n",
              "      <td>37.85</td>\n",
              "      <td>52.0</td>\n",
              "      <td>1274.0</td>\n",
              "      <td>235.0</td>\n",
              "      <td>558.0</td>\n",
              "      <td>219.0</td>\n",
              "      <td>5.6431</td>\n",
              "      <td>341300.0</td>\n",
              "      <td>NEAR BAY</td>\n",
              "      <td>0.184458</td>\n",
              "      <td>5.817352</td>\n",
              "      <td>2.547945</td>\n",
              "      <td>1</td>\n",
              "      <td>0</td>\n",
              "      <td>0</td>\n",
              "      <td>0</td>\n",
              "      <td>0</td>\n",
              "    </tr>\n",
              "    <tr>\n",
              "      <th>4</th>\n",
              "      <td>-122.25</td>\n",
              "      <td>37.85</td>\n",
              "      <td>52.0</td>\n",
              "      <td>1627.0</td>\n",
              "      <td>280.0</td>\n",
              "      <td>565.0</td>\n",
              "      <td>259.0</td>\n",
              "      <td>3.8462</td>\n",
              "      <td>342200.0</td>\n",
              "      <td>NEAR BAY</td>\n",
              "      <td>0.172096</td>\n",
              "      <td>6.281853</td>\n",
              "      <td>2.181467</td>\n",
              "      <td>1</td>\n",
              "      <td>0</td>\n",
              "      <td>0</td>\n",
              "      <td>0</td>\n",
              "      <td>0</td>\n",
              "    </tr>\n",
              "  </tbody>\n",
              "</table>\n",
              "</div>"
            ],
            "text/plain": [
              "   longitude  latitude  housing_median_age  ...  INLAND  NEAR OCEAN  ISLAND\n",
              "0    -122.23     37.88                41.0  ...       0           0       0\n",
              "1    -122.22     37.86                21.0  ...       0           0       0\n",
              "2    -122.24     37.85                52.0  ...       0           0       0\n",
              "3    -122.25     37.85                52.0  ...       0           0       0\n",
              "4    -122.25     37.85                52.0  ...       0           0       0\n",
              "\n",
              "[5 rows x 18 columns]"
            ]
          },
          "metadata": {},
          "execution_count": 127
        }
      ]
    },
    {
      "cell_type": "code",
      "metadata": {
        "colab": {
          "base_uri": "https://localhost:8080/",
          "height": 241
        },
        "id": "Jh-VWBsShBCf",
        "outputId": "184656e5-4c6e-499a-b95a-80a1d95f1712"
      },
      "source": [
        "housing.head()"
      ],
      "execution_count": null,
      "outputs": [
        {
          "output_type": "execute_result",
          "data": {
            "text/html": [
              "<div>\n",
              "<style scoped>\n",
              "    .dataframe tbody tr th:only-of-type {\n",
              "        vertical-align: middle;\n",
              "    }\n",
              "\n",
              "    .dataframe tbody tr th {\n",
              "        vertical-align: top;\n",
              "    }\n",
              "\n",
              "    .dataframe thead th {\n",
              "        text-align: right;\n",
              "    }\n",
              "</style>\n",
              "<table border=\"1\" class=\"dataframe\">\n",
              "  <thead>\n",
              "    <tr style=\"text-align: right;\">\n",
              "      <th></th>\n",
              "      <th>longitude</th>\n",
              "      <th>latitude</th>\n",
              "      <th>housing_median_age</th>\n",
              "      <th>total_rooms</th>\n",
              "      <th>total_bedrooms</th>\n",
              "      <th>population</th>\n",
              "      <th>households</th>\n",
              "      <th>median_income</th>\n",
              "      <th>median_house_value</th>\n",
              "      <th>ocean_proximity</th>\n",
              "      <th>bedroom_per_rooms</th>\n",
              "      <th>rooms_per_households</th>\n",
              "      <th>population_per_households</th>\n",
              "      <th>NEAR BAY</th>\n",
              "      <th>&lt;1H OCEAN</th>\n",
              "      <th>INLAND</th>\n",
              "      <th>NEAR OCEAN</th>\n",
              "      <th>ISLAND</th>\n",
              "    </tr>\n",
              "  </thead>\n",
              "  <tbody>\n",
              "    <tr>\n",
              "      <th>0</th>\n",
              "      <td>-122.23</td>\n",
              "      <td>37.88</td>\n",
              "      <td>41.0</td>\n",
              "      <td>880.0</td>\n",
              "      <td>129.0</td>\n",
              "      <td>322.0</td>\n",
              "      <td>126.0</td>\n",
              "      <td>8.3252</td>\n",
              "      <td>452600.0</td>\n",
              "      <td>NEAR BAY</td>\n",
              "      <td>0.146591</td>\n",
              "      <td>6.984127</td>\n",
              "      <td>2.555556</td>\n",
              "      <td>1</td>\n",
              "      <td>0</td>\n",
              "      <td>0</td>\n",
              "      <td>0</td>\n",
              "      <td>0</td>\n",
              "    </tr>\n",
              "    <tr>\n",
              "      <th>1</th>\n",
              "      <td>-122.22</td>\n",
              "      <td>37.86</td>\n",
              "      <td>21.0</td>\n",
              "      <td>7099.0</td>\n",
              "      <td>1106.0</td>\n",
              "      <td>2401.0</td>\n",
              "      <td>1138.0</td>\n",
              "      <td>8.3014</td>\n",
              "      <td>358500.0</td>\n",
              "      <td>NEAR BAY</td>\n",
              "      <td>0.155797</td>\n",
              "      <td>6.238137</td>\n",
              "      <td>2.109842</td>\n",
              "      <td>1</td>\n",
              "      <td>0</td>\n",
              "      <td>0</td>\n",
              "      <td>0</td>\n",
              "      <td>0</td>\n",
              "    </tr>\n",
              "    <tr>\n",
              "      <th>2</th>\n",
              "      <td>-122.24</td>\n",
              "      <td>37.85</td>\n",
              "      <td>52.0</td>\n",
              "      <td>1467.0</td>\n",
              "      <td>190.0</td>\n",
              "      <td>496.0</td>\n",
              "      <td>177.0</td>\n",
              "      <td>7.2574</td>\n",
              "      <td>352100.0</td>\n",
              "      <td>NEAR BAY</td>\n",
              "      <td>0.129516</td>\n",
              "      <td>8.288136</td>\n",
              "      <td>2.802260</td>\n",
              "      <td>1</td>\n",
              "      <td>0</td>\n",
              "      <td>0</td>\n",
              "      <td>0</td>\n",
              "      <td>0</td>\n",
              "    </tr>\n",
              "    <tr>\n",
              "      <th>3</th>\n",
              "      <td>-122.25</td>\n",
              "      <td>37.85</td>\n",
              "      <td>52.0</td>\n",
              "      <td>1274.0</td>\n",
              "      <td>235.0</td>\n",
              "      <td>558.0</td>\n",
              "      <td>219.0</td>\n",
              "      <td>5.6431</td>\n",
              "      <td>341300.0</td>\n",
              "      <td>NEAR BAY</td>\n",
              "      <td>0.184458</td>\n",
              "      <td>5.817352</td>\n",
              "      <td>2.547945</td>\n",
              "      <td>1</td>\n",
              "      <td>0</td>\n",
              "      <td>0</td>\n",
              "      <td>0</td>\n",
              "      <td>0</td>\n",
              "    </tr>\n",
              "    <tr>\n",
              "      <th>4</th>\n",
              "      <td>-122.25</td>\n",
              "      <td>37.85</td>\n",
              "      <td>52.0</td>\n",
              "      <td>1627.0</td>\n",
              "      <td>280.0</td>\n",
              "      <td>565.0</td>\n",
              "      <td>259.0</td>\n",
              "      <td>3.8462</td>\n",
              "      <td>342200.0</td>\n",
              "      <td>NEAR BAY</td>\n",
              "      <td>0.172096</td>\n",
              "      <td>6.281853</td>\n",
              "      <td>2.181467</td>\n",
              "      <td>1</td>\n",
              "      <td>0</td>\n",
              "      <td>0</td>\n",
              "      <td>0</td>\n",
              "      <td>0</td>\n",
              "    </tr>\n",
              "  </tbody>\n",
              "</table>\n",
              "</div>"
            ],
            "text/plain": [
              "   longitude  latitude  housing_median_age  ...  INLAND  NEAR OCEAN  ISLAND\n",
              "0    -122.23     37.88                41.0  ...       0           0       0\n",
              "1    -122.22     37.86                21.0  ...       0           0       0\n",
              "2    -122.24     37.85                52.0  ...       0           0       0\n",
              "3    -122.25     37.85                52.0  ...       0           0       0\n",
              "4    -122.25     37.85                52.0  ...       0           0       0\n",
              "\n",
              "[5 rows x 18 columns]"
            ]
          },
          "metadata": {},
          "execution_count": 128
        }
      ]
    },
    {
      "cell_type": "code",
      "metadata": {
        "colab": {
          "base_uri": "https://localhost:8080/"
        },
        "id": "KGGMCixMhfjW",
        "outputId": "c64961bb-f6fc-4b4c-a0ae-8ec7e44594cb"
      },
      "source": [
        "housing.info()"
      ],
      "execution_count": null,
      "outputs": [
        {
          "output_type": "stream",
          "name": "stdout",
          "text": [
            "<class 'pandas.core.frame.DataFrame'>\n",
            "RangeIndex: 20640 entries, 0 to 20639\n",
            "Data columns (total 18 columns):\n",
            " #   Column                     Non-Null Count  Dtype  \n",
            "---  ------                     --------------  -----  \n",
            " 0   longitude                  20640 non-null  float64\n",
            " 1   latitude                   20640 non-null  float64\n",
            " 2   housing_median_age         20640 non-null  float64\n",
            " 3   total_rooms                20640 non-null  float64\n",
            " 4   total_bedrooms             20640 non-null  float64\n",
            " 5   population                 20640 non-null  float64\n",
            " 6   households                 20640 non-null  float64\n",
            " 7   median_income              20640 non-null  float64\n",
            " 8   median_house_value         20640 non-null  float64\n",
            " 9   ocean_proximity            20640 non-null  object \n",
            " 10  bedroom_per_rooms          20640 non-null  float64\n",
            " 11  rooms_per_households       20640 non-null  float64\n",
            " 12  population_per_households  20640 non-null  float64\n",
            " 13  NEAR BAY                   20640 non-null  int64  \n",
            " 14  <1H OCEAN                  20640 non-null  int64  \n",
            " 15  INLAND                     20640 non-null  int64  \n",
            " 16  NEAR OCEAN                 20640 non-null  int64  \n",
            " 17  ISLAND                     20640 non-null  int64  \n",
            "dtypes: float64(12), int64(5), object(1)\n",
            "memory usage: 2.8+ MB\n"
          ]
        }
      ]
    },
    {
      "cell_type": "code",
      "metadata": {
        "id": "c9v_-wwohi6d"
      },
      "source": [
        "housing_num = housing.drop(\"ocean_proximity\", axis = 1)"
      ],
      "execution_count": null,
      "outputs": []
    },
    {
      "cell_type": "code",
      "metadata": {
        "id": "1S--c62hkOpT"
      },
      "source": [
        "from sklearn.pipeline import Pipeline\n",
        "from sklearn.preprocessing import StandardScaler\n",
        "from sklearn.impute import SimpleImputer"
      ],
      "execution_count": null,
      "outputs": []
    },
    {
      "cell_type": "code",
      "metadata": {
        "id": "RwdlQnB7kxJX"
      },
      "source": [
        "num_pipeline = Pipeline([('imputer', SimpleImputer(strategy= \"median\")), ('std_scaler', StandardScaler())])\n",
        "\n",
        "housing_num_tr = num_pipeline.fit_transform(housing_num)"
      ],
      "execution_count": null,
      "outputs": []
    },
    {
      "cell_type": "code",
      "metadata": {
        "id": "RyDvAzbCl3VK"
      },
      "source": [
        "from sklearn.compose import ColumnTransformer\n",
        "from sklearn.preprocessing import OneHotEncoder\n",
        "\n",
        "num_attributes = list(housing_num)\n",
        "cat_attributes = [\"ocean_proximity\"]\n",
        "\n",
        "full_pipeline = ColumnTransformer([('num', num_pipeline, num_attributes), ('cat' , OneHotEncoder(), cat_attributes) ])\n",
        "\n",
        "housing_prepared = full_pipeline.fit_transform(housing)"
      ],
      "execution_count": null,
      "outputs": []
    },
    {
      "cell_type": "code",
      "metadata": {
        "id": "4oGVY_ncoWHp"
      },
      "source": [
        "housing_original = pd.read_csv(\"https://raw.githubusercontent.com/mohitgupta-omg/Kaggle-California-Housing-Prices/master/Data/housing.csv\")\n",
        "from sklearn.model_selection import train_test_split\n",
        "\n",
        "train_set, test_set = train_test_split(housing_original)"
      ],
      "execution_count": null,
      "outputs": []
    },
    {
      "cell_type": "code",
      "metadata": {
        "id": "1-sJz4Hes3z3"
      },
      "source": [
        "housing_label = housing[\"median_house_value\"].copy()"
      ],
      "execution_count": null,
      "outputs": []
    },
    {
      "cell_type": "code",
      "metadata": {
        "colab": {
          "base_uri": "https://localhost:8080/"
        },
        "id": "UlC-4g4At5U0",
        "outputId": "7fbb2519-18fc-44a9-a356-5b0a89383887"
      },
      "source": [
        "from sklearn.linear_model import LinearRegression\n",
        "\n",
        "lin_reg = LinearRegression()\n",
        "\n",
        "lin_reg.fit(housing_prepared, housing_label)"
      ],
      "execution_count": null,
      "outputs": [
        {
          "output_type": "execute_result",
          "data": {
            "text/plain": [
              "LinearRegression()"
            ]
          },
          "metadata": {},
          "execution_count": 27
        }
      ]
    },
    {
      "cell_type": "code",
      "metadata": {
        "colab": {
          "base_uri": "https://localhost:8080/"
        },
        "id": "VaBTW9kKuhd1",
        "outputId": "6527ca45-0827-4dbb-d9dc-5efc01e3dfb5"
      },
      "source": [
        "some_data = housing.iloc[:5]\n",
        "some_labels = housing_label[:5]\n",
        "\n",
        "some_data_prepare = full_pipeline.transform(some_data)\n",
        "\n",
        "print(\"predicted data: \", lin_reg.predict(some_data_prepare))\n",
        "print(\"actual data: \", list(some_labels))"
      ],
      "execution_count": null,
      "outputs": [
        {
          "output_type": "stream",
          "name": "stdout",
          "text": [
            "predicted data:  [452600. 358500. 352100. 341300. 342200.]\n",
            "actual data:  [452600.0, 358500.0, 352100.0, 341300.0, 342200.0]\n"
          ]
        }
      ]
    },
    {
      "cell_type": "code",
      "metadata": {
        "colab": {
          "base_uri": "https://localhost:8080/"
        },
        "id": "-Vauh0-bw600",
        "outputId": "e0a037ae-3d9a-4f95-b6f8-0dc94c451588"
      },
      "source": [
        "from sklearn.metrics import mean_squared_error\n",
        "import numpy as np\n",
        "\n",
        "housing_prediction = lin_reg.predict(housing_prepared)\n",
        "lin_mse = mean_squared_error(housing_label, housing_prediction)\n",
        "lin_rmse = np.sqrt(lin_mse)\n",
        "lin_rmse"
      ],
      "execution_count": null,
      "outputs": [
        {
          "output_type": "execute_result",
          "data": {
            "text/plain": [
              "1.7261504464894716e-10"
            ]
          },
          "metadata": {},
          "execution_count": 29
        }
      ]
    },
    {
      "cell_type": "code",
      "metadata": {
        "colab": {
          "base_uri": "https://localhost:8080/"
        },
        "id": "B4R0Nvn6xuLM",
        "outputId": "a6a05a9d-f3ff-42f7-8aec-82f6e8e1417a"
      },
      "source": [
        "from sklearn.tree import DecisionTreeRegressor\n",
        "\n",
        "tree_reg = DecisionTreeRegressor()\n",
        "\n",
        "tree_reg.fit(housing_prepared, housing_label)"
      ],
      "execution_count": null,
      "outputs": [
        {
          "output_type": "execute_result",
          "data": {
            "text/plain": [
              "DecisionTreeRegressor()"
            ]
          },
          "metadata": {},
          "execution_count": 30
        }
      ]
    },
    {
      "cell_type": "code",
      "metadata": {
        "colab": {
          "base_uri": "https://localhost:8080/"
        },
        "id": "dHAOqUFPywvn",
        "outputId": "c13051da-476d-40fd-e579-7d9e956646aa"
      },
      "source": [
        "housing_prediction = tree_reg.predict(housing_prepared)\n",
        "lin_mse = mean_squared_error(housing_label, housing_prediction)\n",
        "lin_rmse = np.sqrt(lin_mse)\n",
        "lin_rmse "
      ],
      "execution_count": null,
      "outputs": [
        {
          "output_type": "execute_result",
          "data": {
            "text/plain": [
              "0.0"
            ]
          },
          "metadata": {},
          "execution_count": 31
        }
      ]
    },
    {
      "cell_type": "code",
      "metadata": {
        "id": "NHCSGHsY3_HO",
        "colab": {
          "base_uri": "https://localhost:8080/"
        },
        "outputId": "2cfb4c45-91db-4839-e711-8ee2fb4299ef"
      },
      "source": [
        "from sklearn.model_selection import cross_val_score\n",
        "\n",
        "scores = cross_val_score(tree_reg, housing_prepared, housing_label, cv = 5, scoring= \"neg_mean_squared_error\")\n",
        "\n",
        "tree_reg_score = np.sqrt(-scores)\n",
        "\n",
        "tree_reg_score"
      ],
      "execution_count": null,
      "outputs": [
        {
          "output_type": "execute_result",
          "data": {
            "text/plain": [
              "array([129.09006231,  93.72900411, 119.18143882, 130.54559036,\n",
              "       101.02430823])"
            ]
          },
          "metadata": {},
          "execution_count": 47
        }
      ]
    },
    {
      "cell_type": "code",
      "metadata": {
        "colab": {
          "base_uri": "https://localhost:8080/"
        },
        "id": "8uRZ6uoUhkyT",
        "outputId": "98355475-97a7-4123-ed07-8ae2d3a5b8dc"
      },
      "source": [
        "from sklearn.model_selection import GridSearchCV\n",
        "\n",
        "params_grid = [{'ccp_alpha': [0.1,0.2,0.3,0.4], 'min_samples_split': [2,3,4,5,6,7]}]\n",
        "\n",
        "tree_reg = DecisionTreeRegressor()\n",
        "\n",
        "grid_search = GridSearchCV(tree_reg, params_grid , cv = 5 , scoring = 'neg_mean_squared_error', return_train_score= True)\n",
        "\n",
        "grid_search.fit(housing_prepared, housing_label)"
      ],
      "execution_count": null,
      "outputs": [
        {
          "output_type": "execute_result",
          "data": {
            "text/plain": [
              "GridSearchCV(cv=5, estimator=DecisionTreeRegressor(),\n",
              "             param_grid=[{'ccp_alpha': [0.1, 0.2, 0.3, 0.4],\n",
              "                          'min_samples_split': [2, 3, 4, 5, 6, 7]}],\n",
              "             return_train_score=True, scoring='neg_mean_squared_error')"
            ]
          },
          "metadata": {},
          "execution_count": 52
        }
      ]
    },
    {
      "cell_type": "code",
      "metadata": {
        "colab": {
          "base_uri": "https://localhost:8080/"
        },
        "id": "icalbEqxl3wI",
        "outputId": "de7e7b0a-d270-44c1-e3b5-6f55c885ce1e"
      },
      "source": [
        "grid_result = grid_search.cv_results_\n",
        "\n",
        "for mean_score, params in zip(grid_result[\"mean_test_score\"], grid_result['params']):\n",
        "  print(-mean_score, params)"
      ],
      "execution_count": null,
      "outputs": [
        {
          "output_type": "stream",
          "name": "stdout",
          "text": [
            "12530.524635550377 {'ccp_alpha': 0.1, 'min_samples_split': 2}\n",
            "17932.050895240303 {'ccp_alpha': 0.1, 'min_samples_split': 3}\n",
            "13622.121330210188 {'ccp_alpha': 0.1, 'min_samples_split': 4}\n",
            "18117.320178858965 {'ccp_alpha': 0.1, 'min_samples_split': 5}\n",
            "16688.479584974404 {'ccp_alpha': 0.1, 'min_samples_split': 6}\n",
            "17690.10777575819 {'ccp_alpha': 0.1, 'min_samples_split': 7}\n",
            "18450.098375860456 {'ccp_alpha': 0.2, 'min_samples_split': 2}\n",
            "20346.295081286815 {'ccp_alpha': 0.2, 'min_samples_split': 3}\n",
            "18594.868568582264 {'ccp_alpha': 0.2, 'min_samples_split': 4}\n",
            "17635.40128889343 {'ccp_alpha': 0.2, 'min_samples_split': 5}\n",
            "18751.287377179397 {'ccp_alpha': 0.2, 'min_samples_split': 6}\n",
            "18376.613751210378 {'ccp_alpha': 0.2, 'min_samples_split': 7}\n",
            "14957.365720821696 {'ccp_alpha': 0.3, 'min_samples_split': 2}\n",
            "17436.169063844958 {'ccp_alpha': 0.3, 'min_samples_split': 3}\n",
            "21119.968030253243 {'ccp_alpha': 0.3, 'min_samples_split': 4}\n",
            "24923.1820059477 {'ccp_alpha': 0.3, 'min_samples_split': 5}\n",
            "9545.079136653974 {'ccp_alpha': 0.3, 'min_samples_split': 6}\n",
            "18061.134772958885 {'ccp_alpha': 0.3, 'min_samples_split': 7}\n",
            "22708.940478573633 {'ccp_alpha': 0.4, 'min_samples_split': 2}\n",
            "11947.554625860455 {'ccp_alpha': 0.4, 'min_samples_split': 3}\n",
            "11559.217583440148 {'ccp_alpha': 0.4, 'min_samples_split': 4}\n",
            "19616.45212330344 {'ccp_alpha': 0.4, 'min_samples_split': 5}\n",
            "14954.592414647084 {'ccp_alpha': 0.4, 'min_samples_split': 6}\n",
            "18487.038492812455 {'ccp_alpha': 0.4, 'min_samples_split': 7}\n"
          ]
        }
      ]
    },
    {
      "cell_type": "code",
      "metadata": {
        "colab": {
          "base_uri": "https://localhost:8080/"
        },
        "id": "S-BNXZTkm5Qd",
        "outputId": "9bd5569f-3d6d-411f-b040-3ea8dad5cfad"
      },
      "source": [
        "from sklearn.model_selection import RandomizedSearchCV\n",
        "\n",
        "\n",
        "params_grid = [{'ccp_alpha': [np.random.uniform(0.1, 2.0)], 'min_samples_split': [2,3,4,5,6,7] , 'max_depth': [int(x) for x in np.linspace(10, 130, num = 20)]}]\n",
        "\n",
        "\n",
        "tree_reg = DecisionTreeRegressor()\n",
        "\n",
        "r_search =   RandomizedSearchCV(tree_reg, params_grid , cv = 5 , scoring = 'neg_mean_squared_error', return_train_score= True)\n",
        "\n",
        "r_search.fit(housing_prepared, housing_label)"
      ],
      "execution_count": null,
      "outputs": [
        {
          "output_type": "execute_result",
          "data": {
            "text/plain": [
              "RandomizedSearchCV(cv=5, estimator=DecisionTreeRegressor(),\n",
              "                   param_distributions=[{'ccp_alpha': [0.2613954663404846],\n",
              "                                         'max_depth': [10, 16, 22, 28, 35, 41,\n",
              "                                                       47, 54, 60, 66, 73, 79,\n",
              "                                                       85, 92, 98, 104, 111,\n",
              "                                                       117, 123, 130],\n",
              "                                         'min_samples_split': [2, 3, 4, 5, 6,\n",
              "                                                               7]}],\n",
              "                   return_train_score=True, scoring='neg_mean_squared_error')"
            ]
          },
          "metadata": {},
          "execution_count": 54
        }
      ]
    },
    {
      "cell_type": "code",
      "metadata": {
        "colab": {
          "base_uri": "https://localhost:8080/"
        },
        "id": "zmtEM3o6peeH",
        "outputId": "78548dca-7314-493e-887c-a4640adfa4bf"
      },
      "source": [
        "r_result = r_search.cv_results_\n",
        "\n",
        "for mean_score, params in zip(r_result[\"mean_test_score\"], r_result['params']):\n",
        "  print(-mean_score, params)"
      ],
      "execution_count": null,
      "outputs": [
        {
          "output_type": "stream",
          "name": "stdout",
          "text": [
            "15477.835730511619 {'min_samples_split': 3, 'max_depth': 123, 'ccp_alpha': 0.2613954663404846}\n",
            "18147.288298341075 {'min_samples_split': 2, 'max_depth': 35, 'ccp_alpha': 0.2613954663404846}\n",
            "17986.916830452414 {'min_samples_split': 7, 'max_depth': 22, 'ccp_alpha': 0.2613954663404846}\n",
            "17980.9082710209 {'min_samples_split': 7, 'max_depth': 79, 'ccp_alpha': 0.2613954663404846}\n",
            "17231.953947565882 {'min_samples_split': 3, 'max_depth': 98, 'ccp_alpha': 0.2613954663404846}\n",
            "22463.1798196589 {'min_samples_split': 2, 'max_depth': 104, 'ccp_alpha': 0.2613954663404846}\n",
            "15623.49748829049 {'min_samples_split': 5, 'max_depth': 123, 'ccp_alpha': 0.2613954663404846}\n",
            "23257.568396989893 {'min_samples_split': 5, 'max_depth': 16, 'ccp_alpha': 0.2613954663404846}\n",
            "25980.500652992243 {'min_samples_split': 3, 'max_depth': 28, 'ccp_alpha': 0.2613954663404846}\n",
            "17825.946195627897 {'min_samples_split': 3, 'max_depth': 41, 'ccp_alpha': 0.2613954663404846}\n"
          ]
        }
      ]
    },
    {
      "cell_type": "code",
      "metadata": {
        "id": "G6SPioSepsSf"
      },
      "source": [
        ""
      ],
      "execution_count": null,
      "outputs": []
    }
  ]
}