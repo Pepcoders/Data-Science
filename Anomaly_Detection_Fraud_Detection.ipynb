{
  "nbformat": 4,
  "nbformat_minor": 0,
  "metadata": {
    "colab": {
      "name": "Anomaly_Detection_Fraud_Detection.ipynb",
      "provenance": []
    },
    "kernelspec": {
      "name": "python3",
      "display_name": "Python 3"
    },
    "language_info": {
      "name": "python"
    }
  },
  "cells": [
    {
      "cell_type": "code",
      "metadata": {
        "id": "OpZbjBOx_M9R"
      },
      "source": [
        "import pandas as pd\n",
        "import numpy as np\n",
        "from sklearn.preprocessing import StandardScaler\n",
        "from sklearn.preprocessing import normalize"
      ],
      "execution_count": null,
      "outputs": []
    },
    {
      "cell_type": "code",
      "metadata": {
        "colab": {
          "base_uri": "https://localhost:8080/",
          "height": 226
        },
        "id": "9Uc_yn0v_dv7",
        "outputId": "b5bb622a-37e6-4f00-cf7a-2f2284572971"
      },
      "source": [
        "df = pd.read_csv('CC GENERAL.csv')\n",
        "df.head()"
      ],
      "execution_count": null,
      "outputs": [
        {
          "output_type": "execute_result",
          "data": {
            "text/html": [
              "<div>\n",
              "<style scoped>\n",
              "    .dataframe tbody tr th:only-of-type {\n",
              "        vertical-align: middle;\n",
              "    }\n",
              "\n",
              "    .dataframe tbody tr th {\n",
              "        vertical-align: top;\n",
              "    }\n",
              "\n",
              "    .dataframe thead th {\n",
              "        text-align: right;\n",
              "    }\n",
              "</style>\n",
              "<table border=\"1\" class=\"dataframe\">\n",
              "  <thead>\n",
              "    <tr style=\"text-align: right;\">\n",
              "      <th></th>\n",
              "      <th>CUST_ID</th>\n",
              "      <th>BALANCE</th>\n",
              "      <th>BALANCE_FREQUENCY</th>\n",
              "      <th>PURCHASES</th>\n",
              "      <th>ONEOFF_PURCHASES</th>\n",
              "      <th>INSTALLMENTS_PURCHASES</th>\n",
              "      <th>CASH_ADVANCE</th>\n",
              "      <th>PURCHASES_FREQUENCY</th>\n",
              "      <th>ONEOFF_PURCHASES_FREQUENCY</th>\n",
              "      <th>PURCHASES_INSTALLMENTS_FREQUENCY</th>\n",
              "      <th>CASH_ADVANCE_FREQUENCY</th>\n",
              "      <th>CASH_ADVANCE_TRX</th>\n",
              "      <th>PURCHASES_TRX</th>\n",
              "      <th>CREDIT_LIMIT</th>\n",
              "      <th>PAYMENTS</th>\n",
              "      <th>MINIMUM_PAYMENTS</th>\n",
              "      <th>PRC_FULL_PAYMENT</th>\n",
              "      <th>TENURE</th>\n",
              "    </tr>\n",
              "  </thead>\n",
              "  <tbody>\n",
              "    <tr>\n",
              "      <th>0</th>\n",
              "      <td>C10001</td>\n",
              "      <td>40.900749</td>\n",
              "      <td>0.818182</td>\n",
              "      <td>95.40</td>\n",
              "      <td>0.00</td>\n",
              "      <td>95.4</td>\n",
              "      <td>0.000000</td>\n",
              "      <td>0.166667</td>\n",
              "      <td>0.000000</td>\n",
              "      <td>0.083333</td>\n",
              "      <td>0.000000</td>\n",
              "      <td>0</td>\n",
              "      <td>2</td>\n",
              "      <td>1000.0</td>\n",
              "      <td>201.802084</td>\n",
              "      <td>139.509787</td>\n",
              "      <td>0.000000</td>\n",
              "      <td>12</td>\n",
              "    </tr>\n",
              "    <tr>\n",
              "      <th>1</th>\n",
              "      <td>C10002</td>\n",
              "      <td>3202.467416</td>\n",
              "      <td>0.909091</td>\n",
              "      <td>0.00</td>\n",
              "      <td>0.00</td>\n",
              "      <td>0.0</td>\n",
              "      <td>6442.945483</td>\n",
              "      <td>0.000000</td>\n",
              "      <td>0.000000</td>\n",
              "      <td>0.000000</td>\n",
              "      <td>0.250000</td>\n",
              "      <td>4</td>\n",
              "      <td>0</td>\n",
              "      <td>7000.0</td>\n",
              "      <td>4103.032597</td>\n",
              "      <td>1072.340217</td>\n",
              "      <td>0.222222</td>\n",
              "      <td>12</td>\n",
              "    </tr>\n",
              "    <tr>\n",
              "      <th>2</th>\n",
              "      <td>C10003</td>\n",
              "      <td>2495.148862</td>\n",
              "      <td>1.000000</td>\n",
              "      <td>773.17</td>\n",
              "      <td>773.17</td>\n",
              "      <td>0.0</td>\n",
              "      <td>0.000000</td>\n",
              "      <td>1.000000</td>\n",
              "      <td>1.000000</td>\n",
              "      <td>0.000000</td>\n",
              "      <td>0.000000</td>\n",
              "      <td>0</td>\n",
              "      <td>12</td>\n",
              "      <td>7500.0</td>\n",
              "      <td>622.066742</td>\n",
              "      <td>627.284787</td>\n",
              "      <td>0.000000</td>\n",
              "      <td>12</td>\n",
              "    </tr>\n",
              "    <tr>\n",
              "      <th>3</th>\n",
              "      <td>C10004</td>\n",
              "      <td>1666.670542</td>\n",
              "      <td>0.636364</td>\n",
              "      <td>1499.00</td>\n",
              "      <td>1499.00</td>\n",
              "      <td>0.0</td>\n",
              "      <td>205.788017</td>\n",
              "      <td>0.083333</td>\n",
              "      <td>0.083333</td>\n",
              "      <td>0.000000</td>\n",
              "      <td>0.083333</td>\n",
              "      <td>1</td>\n",
              "      <td>1</td>\n",
              "      <td>7500.0</td>\n",
              "      <td>0.000000</td>\n",
              "      <td>NaN</td>\n",
              "      <td>0.000000</td>\n",
              "      <td>12</td>\n",
              "    </tr>\n",
              "    <tr>\n",
              "      <th>4</th>\n",
              "      <td>C10005</td>\n",
              "      <td>817.714335</td>\n",
              "      <td>1.000000</td>\n",
              "      <td>16.00</td>\n",
              "      <td>16.00</td>\n",
              "      <td>0.0</td>\n",
              "      <td>0.000000</td>\n",
              "      <td>0.083333</td>\n",
              "      <td>0.083333</td>\n",
              "      <td>0.000000</td>\n",
              "      <td>0.000000</td>\n",
              "      <td>0</td>\n",
              "      <td>1</td>\n",
              "      <td>1200.0</td>\n",
              "      <td>678.334763</td>\n",
              "      <td>244.791237</td>\n",
              "      <td>0.000000</td>\n",
              "      <td>12</td>\n",
              "    </tr>\n",
              "  </tbody>\n",
              "</table>\n",
              "</div>"
            ],
            "text/plain": [
              "  CUST_ID      BALANCE  ...  PRC_FULL_PAYMENT  TENURE\n",
              "0  C10001    40.900749  ...          0.000000      12\n",
              "1  C10002  3202.467416  ...          0.222222      12\n",
              "2  C10003  2495.148862  ...          0.000000      12\n",
              "3  C10004  1666.670542  ...          0.000000      12\n",
              "4  C10005   817.714335  ...          0.000000      12\n",
              "\n",
              "[5 rows x 18 columns]"
            ]
          },
          "metadata": {},
          "execution_count": 101
        }
      ]
    },
    {
      "cell_type": "code",
      "metadata": {
        "id": "WUg4c2L1_k_C"
      },
      "source": [
        "df.info()"
      ],
      "execution_count": null,
      "outputs": []
    },
    {
      "cell_type": "code",
      "metadata": {
        "id": "EHKixwvo_rU2"
      },
      "source": [
        "X=df.drop('CUST_ID',axis=1)\n",
        "X.fillna(method='ffill',inplace=True)"
      ],
      "execution_count": null,
      "outputs": []
    },
    {
      "cell_type": "code",
      "metadata": {
        "id": "bccqZlyI_6UH",
        "colab": {
          "base_uri": "https://localhost:8080/",
          "height": 195
        },
        "outputId": "1799823a-3fae-453e-af0e-7e1cb74ed6dc"
      },
      "source": [
        "scaler= StandardScaler()\n",
        "X=scaler.fit_transform(X)\n",
        "X_new=pd.DataFrame(normalize(X))\n",
        "X_new.head(4)"
      ],
      "execution_count": null,
      "outputs": [
        {
          "output_type": "execute_result",
          "data": {
            "text/html": [
              "<div>\n",
              "<style scoped>\n",
              "    .dataframe tbody tr th:only-of-type {\n",
              "        vertical-align: middle;\n",
              "    }\n",
              "\n",
              "    .dataframe tbody tr th {\n",
              "        vertical-align: top;\n",
              "    }\n",
              "\n",
              "    .dataframe thead th {\n",
              "        text-align: right;\n",
              "    }\n",
              "</style>\n",
              "<table border=\"1\" class=\"dataframe\">\n",
              "  <thead>\n",
              "    <tr style=\"text-align: right;\">\n",
              "      <th></th>\n",
              "      <th>0</th>\n",
              "      <th>1</th>\n",
              "      <th>2</th>\n",
              "      <th>3</th>\n",
              "      <th>4</th>\n",
              "      <th>5</th>\n",
              "      <th>6</th>\n",
              "      <th>7</th>\n",
              "      <th>8</th>\n",
              "      <th>9</th>\n",
              "      <th>10</th>\n",
              "      <th>11</th>\n",
              "      <th>12</th>\n",
              "      <th>13</th>\n",
              "      <th>14</th>\n",
              "      <th>15</th>\n",
              "      <th>16</th>\n",
              "    </tr>\n",
              "  </thead>\n",
              "  <tbody>\n",
              "    <tr>\n",
              "      <th>0</th>\n",
              "      <td>-0.312038</td>\n",
              "      <td>-0.106331</td>\n",
              "      <td>-0.181129</td>\n",
              "      <td>-0.152156</td>\n",
              "      <td>-0.148808</td>\n",
              "      <td>-0.198985</td>\n",
              "      <td>-0.343796</td>\n",
              "      <td>-0.289304</td>\n",
              "      <td>-0.301518</td>\n",
              "      <td>-0.287892</td>\n",
              "      <td>-0.202942</td>\n",
              "      <td>-0.217975</td>\n",
              "      <td>-0.409413</td>\n",
              "      <td>-0.225497</td>\n",
              "      <td>-0.130160</td>\n",
              "      <td>-0.224036</td>\n",
              "      <td>0.153753</td>\n",
              "    </tr>\n",
              "    <tr>\n",
              "      <th>1</th>\n",
              "      <td>0.219928</td>\n",
              "      <td>0.037539</td>\n",
              "      <td>-0.131224</td>\n",
              "      <td>-0.099751</td>\n",
              "      <td>-0.127038</td>\n",
              "      <td>0.728177</td>\n",
              "      <td>-0.341439</td>\n",
              "      <td>-0.189662</td>\n",
              "      <td>-0.256269</td>\n",
              "      <td>0.160403</td>\n",
              "      <td>0.030762</td>\n",
              "      <td>-0.165387</td>\n",
              "      <td>0.192455</td>\n",
              "      <td>0.228782</td>\n",
              "      <td>0.024353</td>\n",
              "      <td>0.065458</td>\n",
              "      <td>0.100798</td>\n",
              "    </tr>\n",
              "    <tr>\n",
              "      <th>2</th>\n",
              "      <td>0.126684</td>\n",
              "      <td>0.146785</td>\n",
              "      <td>-0.030505</td>\n",
              "      <td>0.030851</td>\n",
              "      <td>-0.128792</td>\n",
              "      <td>-0.132251</td>\n",
              "      <td>0.359775</td>\n",
              "      <td>0.757449</td>\n",
              "      <td>-0.259805</td>\n",
              "      <td>-0.191342</td>\n",
              "      <td>-0.134881</td>\n",
              "      <td>-0.030888</td>\n",
              "      <td>0.234046</td>\n",
              "      <td>-0.108741</td>\n",
              "      <td>-0.028363</td>\n",
              "      <td>-0.148900</td>\n",
              "      <td>0.102189</td>\n",
              "    </tr>\n",
              "    <tr>\n",
              "      <th>3</th>\n",
              "      <td>0.020571</td>\n",
              "      <td>-0.426063</td>\n",
              "      <td>0.097223</td>\n",
              "      <td>0.228832</td>\n",
              "      <td>-0.190449</td>\n",
              "      <td>-0.154451</td>\n",
              "      <td>-0.424878</td>\n",
              "      <td>-0.167299</td>\n",
              "      <td>-0.384185</td>\n",
              "      <td>-0.108474</td>\n",
              "      <td>-0.138062</td>\n",
              "      <td>-0.231084</td>\n",
              "      <td>0.346093</td>\n",
              "      <td>-0.250827</td>\n",
              "      <td>-0.041942</td>\n",
              "      <td>-0.220185</td>\n",
              "      <td>0.151110</td>\n",
              "    </tr>\n",
              "  </tbody>\n",
              "</table>\n",
              "</div>"
            ],
            "text/plain": [
              "         0         1         2   ...        14        15        16\n",
              "0 -0.312038 -0.106331 -0.181129  ... -0.130160 -0.224036  0.153753\n",
              "1  0.219928  0.037539 -0.131224  ...  0.024353  0.065458  0.100798\n",
              "2  0.126684  0.146785 -0.030505  ... -0.028363 -0.148900  0.102189\n",
              "3  0.020571 -0.426063  0.097223  ... -0.041942 -0.220185  0.151110\n",
              "\n",
              "[4 rows x 17 columns]"
            ]
          },
          "metadata": {},
          "execution_count": 104
        }
      ]
    },
    {
      "cell_type": "code",
      "metadata": {
        "colab": {
          "base_uri": "https://localhost:8080/",
          "height": 206
        },
        "id": "W2D-4BZmAPnx",
        "outputId": "00e53b60-c0e5-466b-8073-45542a3f579e"
      },
      "source": [
        "from sklearn.decomposition import PCA\n",
        "pca = PCA(n_components=2)\n",
        "X_new=pca.fit_transform(X_new)\n",
        "X_new = pd.DataFrame(X_new)\n",
        "X_new.columns='C1','C2'\n",
        "X_new.head()"
      ],
      "execution_count": null,
      "outputs": [
        {
          "output_type": "execute_result",
          "data": {
            "text/html": [
              "<div>\n",
              "<style scoped>\n",
              "    .dataframe tbody tr th:only-of-type {\n",
              "        vertical-align: middle;\n",
              "    }\n",
              "\n",
              "    .dataframe tbody tr th {\n",
              "        vertical-align: top;\n",
              "    }\n",
              "\n",
              "    .dataframe thead th {\n",
              "        text-align: right;\n",
              "    }\n",
              "</style>\n",
              "<table border=\"1\" class=\"dataframe\">\n",
              "  <thead>\n",
              "    <tr style=\"text-align: right;\">\n",
              "      <th></th>\n",
              "      <th>C1</th>\n",
              "      <th>C2</th>\n",
              "    </tr>\n",
              "  </thead>\n",
              "  <tbody>\n",
              "    <tr>\n",
              "      <th>0</th>\n",
              "      <td>-0.489949</td>\n",
              "      <td>-0.679976</td>\n",
              "    </tr>\n",
              "    <tr>\n",
              "      <th>1</th>\n",
              "      <td>-0.519099</td>\n",
              "      <td>0.544827</td>\n",
              "    </tr>\n",
              "    <tr>\n",
              "      <th>2</th>\n",
              "      <td>0.330633</td>\n",
              "      <td>0.268880</td>\n",
              "    </tr>\n",
              "    <tr>\n",
              "      <th>3</th>\n",
              "      <td>-0.481657</td>\n",
              "      <td>-0.097611</td>\n",
              "    </tr>\n",
              "    <tr>\n",
              "      <th>4</th>\n",
              "      <td>-0.563512</td>\n",
              "      <td>-0.482505</td>\n",
              "    </tr>\n",
              "  </tbody>\n",
              "</table>\n",
              "</div>"
            ],
            "text/plain": [
              "         C1        C2\n",
              "0 -0.489949 -0.679976\n",
              "1 -0.519099  0.544827\n",
              "2  0.330633  0.268880\n",
              "3 -0.481657 -0.097611\n",
              "4 -0.563512 -0.482505"
            ]
          },
          "metadata": {},
          "execution_count": 105
        }
      ]
    },
    {
      "cell_type": "code",
      "metadata": {
        "colab": {
          "base_uri": "https://localhost:8080/"
        },
        "id": "umo2pPW0BOen",
        "outputId": "cdb71403-ff78-42bd-d936-cd6d237326cc"
      },
      "source": [
        "from sklearn.mixture import GaussianMixture\n",
        "gm = GaussianMixture(n_components=3,n_init=10)\n",
        "gm.fit(X_new)"
      ],
      "execution_count": null,
      "outputs": [
        {
          "output_type": "execute_result",
          "data": {
            "text/plain": [
              "GaussianMixture(n_components=3, n_init=10)"
            ]
          },
          "metadata": {},
          "execution_count": 106
        }
      ]
    },
    {
      "cell_type": "code",
      "metadata": {
        "colab": {
          "base_uri": "https://localhost:8080/"
        },
        "id": "DBKRbrjDBmYO",
        "outputId": "63c32a7a-b257-4361-f680-ad22e324b2ed"
      },
      "source": [
        "gm.weights_"
      ],
      "execution_count": null,
      "outputs": [
        {
          "output_type": "execute_result",
          "data": {
            "text/plain": [
              "array([0.22270354, 0.34844001, 0.42885645])"
            ]
          },
          "metadata": {},
          "execution_count": 107
        }
      ]
    },
    {
      "cell_type": "code",
      "metadata": {
        "colab": {
          "base_uri": "https://localhost:8080/"
        },
        "id": "ItgBfRqlBwpf",
        "outputId": "c003628e-06e9-4373-a76a-96a73c626d55"
      },
      "source": [
        "gm.means_"
      ],
      "execution_count": null,
      "outputs": [
        {
          "output_type": "execute_result",
          "data": {
            "text/plain": [
              "array([[-0.36127408,  0.52994364],\n",
              "       [-0.42239485, -0.30477819],\n",
              "       [ 0.53079833, -0.02756962]])"
            ]
          },
          "metadata": {},
          "execution_count": 108
        }
      ]
    },
    {
      "cell_type": "code",
      "metadata": {
        "colab": {
          "base_uri": "https://localhost:8080/"
        },
        "id": "Azt-9YAtB2XR",
        "outputId": "78eb1064-730d-44a2-b5bc-c0b7f8e67eb5"
      },
      "source": [
        "gm.covariances_"
      ],
      "execution_count": null,
      "outputs": [
        {
          "output_type": "execute_result",
          "data": {
            "text/plain": [
              "array([[[ 0.10139434,  0.03542391],\n",
              "        [ 0.03542391,  0.06488322]],\n",
              "\n",
              "       [[ 0.07770304, -0.03147434],\n",
              "        [-0.03147434,  0.05484877]],\n",
              "\n",
              "       [[ 0.05205846,  0.01663584],\n",
              "        [ 0.01663584,  0.1190574 ]]])"
            ]
          },
          "metadata": {},
          "execution_count": 109
        }
      ]
    },
    {
      "cell_type": "code",
      "metadata": {
        "colab": {
          "base_uri": "https://localhost:8080/"
        },
        "id": "N60XBlFtCDKi",
        "outputId": "ef7c2157-2295-4817-b379-6ceb295dfbc0"
      },
      "source": [
        "gm.converged_"
      ],
      "execution_count": null,
      "outputs": [
        {
          "output_type": "execute_result",
          "data": {
            "text/plain": [
              "True"
            ]
          },
          "metadata": {},
          "execution_count": 110
        }
      ]
    },
    {
      "cell_type": "code",
      "metadata": {
        "colab": {
          "base_uri": "https://localhost:8080/"
        },
        "id": "nTcYGDPKB8G6",
        "outputId": "f177a9e0-0b80-47cc-a545-6fc6ca2d8842"
      },
      "source": [
        "labels=gm.predict(X_new)\n",
        "labels"
      ],
      "execution_count": null,
      "outputs": [
        {
          "output_type": "execute_result",
          "data": {
            "text/plain": [
              "array([1, 0, 2, ..., 2, 1, 2])"
            ]
          },
          "metadata": {},
          "execution_count": 120
        }
      ]
    },
    {
      "cell_type": "code",
      "metadata": {
        "colab": {
          "base_uri": "https://localhost:8080/"
        },
        "id": "K-Txu1Tv8gGa",
        "outputId": "cfcbd1a4-94ff-465b-9b60-26aa49f2cb27"
      },
      "source": [
        "gm.predict_proba(X_new)"
      ],
      "execution_count": null,
      "outputs": [
        {
          "output_type": "execute_result",
          "data": {
            "text/plain": [
              "array([[7.94998229e-06, 9.99809821e-01, 1.82228674e-04],\n",
              "       [9.99087563e-01, 9.10981139e-04, 1.45605889e-06],\n",
              "       [1.19578933e-02, 7.61331875e-06, 9.88034493e-01],\n",
              "       ...,\n",
              "       [4.61727875e-05, 9.65434240e-02, 9.03410403e-01],\n",
              "       [5.71657905e-03, 9.92857783e-01, 1.42563747e-03],\n",
              "       [1.88409454e-01, 8.33201888e-02, 7.28270357e-01]])"
            ]
          },
          "metadata": {},
          "execution_count": 112
        }
      ]
    },
    {
      "cell_type": "code",
      "metadata": {
        "colab": {
          "base_uri": "https://localhost:8080/",
          "height": 265
        },
        "id": "B9M3dOSzCSA-",
        "outputId": "612d426c-0dba-43da-daab-fec4f9faddda"
      },
      "source": [
        "import matplotlib.pyplot as plt\n",
        "\n",
        "plt.scatter(X_new['C1'],X_new['C2'], c=labels,cmap=plt.cm.winter,alpha=0.6)\n",
        "plt.show()"
      ],
      "execution_count": null,
      "outputs": [
        {
          "output_type": "display_data",
          "data": {
            "image/png": "[encoded data removed]",
            "text/plain": [
              "<Figure size 432x288 with 1 Axes>"
            ]
          },
          "metadata": {
            "needs_background": "light"
          }
        }
      ]
    },
    {
      "cell_type": "code",
      "metadata": {
        "colab": {
          "base_uri": "https://localhost:8080/"
        },
        "id": "GaJKCSG5DYDT",
        "outputId": "84c788b9-c03b-4461-875e-8f807b2397a3"
      },
      "source": [
        "X_samp,Y_samp = gm.sample(5)\n",
        "print(X_samp,Y_samp)"
      ],
      "execution_count": null,
      "outputs": [
        {
          "output_type": "stream",
          "name": "stdout",
          "text": [
            "[[-0.77661991  0.34842033]\n",
            " [-0.38858853 -0.52221794]\n",
            " [ 0.53370575 -0.19368474]\n",
            " [ 0.77767267  0.63301055]\n",
            " [ 0.21864363  0.13293744]] [0 1 2 2 2]\n"
          ]
        }
      ]
    },
    {
      "cell_type": "code",
      "metadata": {
        "id": "ToHNLPE4Dkqy"
      },
      "source": [
        "densities=gm.score_samples(X_new)"
      ],
      "execution_count": null,
      "outputs": []
    },
    {
      "cell_type": "code",
      "metadata": {
        "colab": {
          "base_uri": "https://localhost:8080/"
        },
        "id": "VRtjiA2LKYX_",
        "outputId": "19cf8a35-c6cf-481f-d1ba-7c35ccd34e81"
      },
      "source": [
        "density_threshold = np.percentile(densities,2)\n",
        "anomaly = X_new[densities<density_threshold]\n",
        "print(\"possible number of frauds:\",end=\" \")\n",
        "print(len(anomaly))"
      ],
      "execution_count": null,
      "outputs": [
        {
          "output_type": "stream",
          "name": "stdout",
          "text": [
            "possible number of frauds: 179\n"
          ]
        }
      ]
    }
  ]
}