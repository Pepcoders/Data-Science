{
 "cells": [
  {
   "cell_type": "code",
   "execution_count": 4,
   "id": "07c16799",
   "metadata": {},
   "outputs": [],
   "source": [
    "import mediapipe as mp\n",
    "import cv2\n",
    "import pydirectinput"
   ]
  },
  {
   "cell_type": "code",
   "execution_count": 5,
   "id": "d9849795",
   "metadata": {},
   "outputs": [],
   "source": [
    "mp_drawing=mp.solutions.drawing_utils\n",
    "mp_holistic=mp.solutions.holistic\n",
    "mp_pose=mp.solutions.pose\n"
   ]
  },
  {
   "cell_type": "code",
   "execution_count": 1,
   "id": "2b664127",
   "metadata": {},
   "outputs": [
    {
     "ename": "SyntaxError",
     "evalue": "unmatched ')' (Temp/ipykernel_7108/3073676955.py, line 17)",
     "output_type": "error",
     "traceback": [
      "\u001b[1;36m  File \u001b[1;32m\"C:\\Users\\ANKITS~1\\AppData\\Local\\Temp/ipykernel_7108/3073676955.py\"\u001b[1;36m, line \u001b[1;32m17\u001b[0m\n\u001b[1;33m    results.pose_landmarks.landmark[mp_pose.PoseLandmark.RIGHT_WRIST].y * height)\u001b[0m\n\u001b[1;37m                                                                                ^\u001b[0m\n\u001b[1;31mSyntaxError\u001b[0m\u001b[1;31m:\u001b[0m unmatched ')'\n"
     ]
    }
   ],
   "source": [
    "cap=cv2.VideoCapture(0)\n",
    "cap.set(3,560)\n",
    "cap.set(4,400)\n",
    "with mp_holistic.Holistic(min_detection_confidence=0.5, min_tracking_confidence=0.5) as holistic:\n",
    "    while cap.isOpened():\n",
    "        success,img=cap.read()\n",
    "        img=cv2.flip(img,1)\n",
    "        #color\n",
    "        img=cv2.cvtColor(img,cv2.COLOR_BGR2RGB)\n",
    "        results=holistic.process(img)\n",
    "        img=cv2.cvtColor(img,cv2.COLOR_RGB2BGR)\n",
    "        height,width,_=img.shape\n",
    "\n",
    "        try:\n",
    "            right_hand = (results.pose_landmarks.landmark[mp_pose.PoseLandmark.LEFT_WRIST].x * width,\n",
    "                                  results.pose_landmarks.landmark[mp_pose.PoseLandmark.LEFT_WRIST].y * height)\n",
    "            results.pose_landmarks.landmark[mp_pose.PoseLandmark.RIGHT_WRIST].y * height)\n",
    "            y_mid=height//2\n",
    "\n",
    "            pose=\"move\"\n",
    "            if(right_hand[1]<y_mid):\n",
    "                pose=\"acc\"\n",
    "                pydirectinput.keyDown('right')\n",
    "                pydirectinput.keyUp('left')\n",
    "            elif(right_hand[1]>y_mid):\n",
    "                pose=\"break\"\n",
    "                pydirectinput.keyDown('left')\n",
    "                pydirectinput.keyUp('right')\n",
    "        except:\n",
    "            pass         \n",
    "        cv2.putText(img,pose,(20,8),cv2.FONT_HERSHEY_PLAIN,2,(255,255,0),2)\n",
    "        cv2.line(img,(0,y_mid),(width,y_mid),(255,0,255),2)\n",
    "        cv2.imshow('CarGame',img)\n",
    "        if cv2.waitKey(1)==ord('q'):\n",
    "            break;\n",
    "cap.release()\n",
    "cv2.destroyAllWindows()"
   ]
  },
  {
   "cell_type": "code",
   "execution_count": null,
   "id": "b747851c",
   "metadata": {},
   "outputs": [],
   "source": []
  },
  {
   "cell_type": "code",
   "execution_count": null,
   "id": "0991527a",
   "metadata": {},
   "outputs": [],
   "source": []
  },
  {
   "cell_type": "code",
   "execution_count": null,
   "id": "0bdecc52",
   "metadata": {},
   "outputs": [],
   "source": []
  }
 ],
 "metadata": {
  "kernelspec": {
   "display_name": "Python 3 (ipykernel)",
   "language": "python",
   "name": "python3"
  },
  "language_info": {
   "codemirror_mode": {
    "name": "ipython",
    "version": 3
   },
   "file_extension": ".py",
   "mimetype": "text/x-python",
   "name": "python",
   "nbconvert_exporter": "python",
   "pygments_lexer": "ipython3",
   "version": "3.9.7"
  }
 },
 "nbformat": 4,
 "nbformat_minor": 5
}
