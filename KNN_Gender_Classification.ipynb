{
  "nbformat": 4,
  "nbformat_minor": 0,
  "metadata": {
    "colab": {
      "name": "KNN_Gender Classification.ipynb",
      "provenance": []
    },
    "kernelspec": {
      "name": "python3",
      "display_name": "Python 3"
    },
    "language_info": {
      "name": "python"
    }
  },
  "cells": [
    {
      "cell_type": "code",
      "metadata": {
        "id": "MIV0x2yZhQpy"
      },
      "source": [
        "import pandas as pd\n",
        "import numpy as np"
      ],
      "execution_count": null,
      "outputs": []
    },
    {
      "cell_type": "code",
      "metadata": {
        "colab": {
          "base_uri": "https://localhost:8080/",
          "height": 206
        },
        "id": "pp9kZIOIifgH",
        "outputId": "b6c640dd-5c19-45e3-8a96-f941137fc5c0"
      },
      "source": [
        "df = pd.read_csv('https://raw.githubusercontent.com/elakiricoder/Gender_Classification_Support_Vector_Machines_SVM/main/gender_classification_v7.csv')\n",
        "df.head()"
      ],
      "execution_count": null,
      "outputs": [
        {
          "output_type": "execute_result",
          "data": {
            "text/html": [
              "<div>\n",
              "<style scoped>\n",
              "    .dataframe tbody tr th:only-of-type {\n",
              "        vertical-align: middle;\n",
              "    }\n",
              "\n",
              "    .dataframe tbody tr th {\n",
              "        vertical-align: top;\n",
              "    }\n",
              "\n",
              "    .dataframe thead th {\n",
              "        text-align: right;\n",
              "    }\n",
              "</style>\n",
              "<table border=\"1\" class=\"dataframe\">\n",
              "  <thead>\n",
              "    <tr style=\"text-align: right;\">\n",
              "      <th></th>\n",
              "      <th>long_hair</th>\n",
              "      <th>forehead_width_cm</th>\n",
              "      <th>forehead_height_cm</th>\n",
              "      <th>nose_wide</th>\n",
              "      <th>nose_long</th>\n",
              "      <th>lips_thin</th>\n",
              "      <th>distance_nose_to_lip_long</th>\n",
              "      <th>Male</th>\n",
              "    </tr>\n",
              "  </thead>\n",
              "  <tbody>\n",
              "    <tr>\n",
              "      <th>0</th>\n",
              "      <td>1</td>\n",
              "      <td>11.8</td>\n",
              "      <td>6.1</td>\n",
              "      <td>1</td>\n",
              "      <td>0</td>\n",
              "      <td>1</td>\n",
              "      <td>1</td>\n",
              "      <td>1</td>\n",
              "    </tr>\n",
              "    <tr>\n",
              "      <th>1</th>\n",
              "      <td>0</td>\n",
              "      <td>14.0</td>\n",
              "      <td>5.4</td>\n",
              "      <td>0</td>\n",
              "      <td>0</td>\n",
              "      <td>1</td>\n",
              "      <td>0</td>\n",
              "      <td>0</td>\n",
              "    </tr>\n",
              "    <tr>\n",
              "      <th>2</th>\n",
              "      <td>0</td>\n",
              "      <td>11.8</td>\n",
              "      <td>6.3</td>\n",
              "      <td>1</td>\n",
              "      <td>1</td>\n",
              "      <td>1</td>\n",
              "      <td>1</td>\n",
              "      <td>1</td>\n",
              "    </tr>\n",
              "    <tr>\n",
              "      <th>3</th>\n",
              "      <td>0</td>\n",
              "      <td>14.4</td>\n",
              "      <td>6.1</td>\n",
              "      <td>0</td>\n",
              "      <td>1</td>\n",
              "      <td>1</td>\n",
              "      <td>1</td>\n",
              "      <td>1</td>\n",
              "    </tr>\n",
              "    <tr>\n",
              "      <th>4</th>\n",
              "      <td>1</td>\n",
              "      <td>13.5</td>\n",
              "      <td>5.9</td>\n",
              "      <td>0</td>\n",
              "      <td>0</td>\n",
              "      <td>0</td>\n",
              "      <td>0</td>\n",
              "      <td>0</td>\n",
              "    </tr>\n",
              "  </tbody>\n",
              "</table>\n",
              "</div>"
            ],
            "text/plain": [
              "   long_hair  forehead_width_cm  ...  distance_nose_to_lip_long  Male\n",
              "0          1               11.8  ...                          1     1\n",
              "1          0               14.0  ...                          0     0\n",
              "2          0               11.8  ...                          1     1\n",
              "3          0               14.4  ...                          1     1\n",
              "4          1               13.5  ...                          0     0\n",
              "\n",
              "[5 rows x 8 columns]"
            ]
          },
          "metadata": {},
          "execution_count": 3
        }
      ]
    },
    {
      "cell_type": "code",
      "metadata": {
        "colab": {
          "base_uri": "https://localhost:8080/"
        },
        "id": "NmRpz23_ioVs",
        "outputId": "8865f13f-5acc-465b-c0ba-b4ae41ee9489"
      },
      "source": [
        "df.info()"
      ],
      "execution_count": null,
      "outputs": [
        {
          "output_type": "stream",
          "name": "stdout",
          "text": [
            "<class 'pandas.core.frame.DataFrame'>\n",
            "RangeIndex: 5001 entries, 0 to 5000\n",
            "Data columns (total 8 columns):\n",
            " #   Column                     Non-Null Count  Dtype  \n",
            "---  ------                     --------------  -----  \n",
            " 0   long_hair                  5001 non-null   int64  \n",
            " 1   forehead_width_cm          5001 non-null   float64\n",
            " 2   forehead_height_cm         5001 non-null   float64\n",
            " 3   nose_wide                  5001 non-null   int64  \n",
            " 4   nose_long                  5001 non-null   int64  \n",
            " 5   lips_thin                  5001 non-null   int64  \n",
            " 6   distance_nose_to_lip_long  5001 non-null   int64  \n",
            " 7   Male                       5001 non-null   int64  \n",
            "dtypes: float64(2), int64(6)\n",
            "memory usage: 312.7 KB\n"
          ]
        }
      ]
    },
    {
      "cell_type": "code",
      "metadata": {
        "id": "oUkIcDgJi8SJ"
      },
      "source": [
        "x = df.iloc[:,:-1].values\n",
        "y = np.array(df['Male'])\n",
        "labels, unique = pd.factorize(y)"
      ],
      "execution_count": null,
      "outputs": []
    },
    {
      "cell_type": "code",
      "metadata": {
        "id": "8FGdRKa5j8MO"
      },
      "source": [
        "from sklearn.model_selection import train_test_split\n",
        "x_train, x_test, y_train, y_test = train_test_split(x,y,test_size=0.40)"
      ],
      "execution_count": null,
      "outputs": []
    },
    {
      "cell_type": "code",
      "metadata": {
        "id": "TumC3aJDkRSb"
      },
      "source": [
        "def takeSecond(ele):\n",
        "  return ele[1]"
      ],
      "execution_count": null,
      "outputs": []
    },
    {
      "cell_type": "code",
      "metadata": {
        "id": "Xp9zWftokazW"
      },
      "source": [
        "def KNNClassify(X_test, y_train = y_train, x_train = x_train, k=8):\n",
        "  min_dis = []\n",
        "  for i, point in enumerate(x_train):\n",
        "    d1 = (point[0]-X_test[0])**2\n",
        "    d2 = (point[1]-X_test[1])**2\n",
        "    d3 = (point[2]-X_test[2])**2\n",
        "    d4 = (point[3]-X_test[3])**2\n",
        "    d5 = (point[4]-X_test[4])**2\n",
        "    d6 = (point[5]-X_test[5])**2\n",
        "    d7 = (point[6]-X_test[6])**2\n",
        "    dist = np.sqrt(d1+d2+d3+d4+d5+d6+d7)\n",
        "    min_dis.append((i,dist))\n",
        "\n",
        "  min_dis.sort(key=takeSecond)\n",
        "\n",
        "  neighbors = min_dis[:k]\n",
        "\n",
        "  idx = []\n",
        "  for ele in neighbors:\n",
        "    idx.append(ele[0])\n",
        "  \n",
        "  output = y_train[idx]\n",
        "\n",
        "  values, count = np.unique(output, return_counts=True)\n",
        "\n",
        "  max_idx = np.argmax(count)\n",
        "\n",
        "  return values[max_idx]"
      ],
      "execution_count": null,
      "outputs": []
    },
    {
      "cell_type": "code",
      "metadata": {
        "id": "sn9Nn0EroQm6"
      },
      "source": [
        "predictions = list(map(KNNClassify,x_test))"
      ],
      "execution_count": null,
      "outputs": []
    },
    {
      "cell_type": "code",
      "metadata": {
        "id": "4pqLVqKxpnkC"
      },
      "source": [
        "def accuracy(pred, y_test):\n",
        "  count=0\n",
        "  for i in range(len(pred)):\n",
        "    if(pred[i]==y_test[i]):\n",
        "      count+=1\n",
        "  \n",
        "  print(\"Accuracy = \",(count/len(pred))*100, \"%\")"
      ],
      "execution_count": null,
      "outputs": []
    },
    {
      "cell_type": "code",
      "metadata": {
        "colab": {
          "base_uri": "https://localhost:8080/"
        },
        "id": "e1eE3QaMp8_4",
        "outputId": "21c51c65-4ac1-4152-db31-c1760db6e9c8"
      },
      "source": [
        "accuracy(predictions,y_test)"
      ],
      "execution_count": null,
      "outputs": [
        {
          "output_type": "stream",
          "name": "stdout",
          "text": [
            "Accuracy =  96.7016491754123 %\n"
          ]
        }
      ]
    }
  ]
}