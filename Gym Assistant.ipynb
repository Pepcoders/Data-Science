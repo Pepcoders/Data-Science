{
 "cells": [
  {
   "cell_type": "code",
   "execution_count": 2,
   "id": "9cececb6",
   "metadata": {
    "collapsed": true
   },
   "outputs": [
    {
     "name": "stdout",
     "output_type": "stream",
     "text": [
      "Requirement already satisfied: mediapipe in c:\\users\\msi1\\anaconda3\\lib\\site-packages (0.8.9)\n",
      "Requirement already satisfied: opencv-python in c:\\users\\msi1\\anaconda3\\lib\\site-packages (4.5.4.60)\n",
      "Requirement already satisfied: numpy in c:\\users\\msi1\\anaconda3\\lib\\site-packages (from mediapipe) (1.20.3)\n",
      "Requirement already satisfied: absl-py in c:\\users\\msi1\\anaconda3\\lib\\site-packages (from mediapipe) (1.0.0)\n",
      "Requirement already satisfied: opencv-contrib-python in c:\\users\\msi1\\anaconda3\\lib\\site-packages (from mediapipe) (4.5.4.60)\n",
      "Requirement already satisfied: protobuf>=3.11.4 in c:\\users\\msi1\\anaconda3\\lib\\site-packages (from mediapipe) (3.19.1)\n",
      "Requirement already satisfied: six in c:\\users\\msi1\\anaconda3\\lib\\site-packages (from mediapipe) (1.16.0)\n",
      "Requirement already satisfied: attrs>=19.1.0 in c:\\users\\msi1\\anaconda3\\lib\\site-packages (from mediapipe) (21.2.0)\n",
      "Requirement already satisfied: matplotlib in c:\\users\\msi1\\anaconda3\\lib\\site-packages (from mediapipe) (3.4.3)\n",
      "Requirement already satisfied: wheel in c:\\users\\msi1\\anaconda3\\lib\\site-packages (from mediapipe) (0.37.0)\n",
      "Requirement already satisfied: cycler>=0.10 in c:\\users\\msi1\\anaconda3\\lib\\site-packages (from matplotlib->mediapipe) (0.10.0)\n",
      "Requirement already satisfied: kiwisolver>=1.0.1 in c:\\users\\msi1\\anaconda3\\lib\\site-packages (from matplotlib->mediapipe) (1.3.1)\n",
      "Requirement already satisfied: pyparsing>=2.2.1 in c:\\users\\msi1\\anaconda3\\lib\\site-packages (from matplotlib->mediapipe) (3.0.4)\n",
      "Requirement already satisfied: python-dateutil>=2.7 in c:\\users\\msi1\\anaconda3\\lib\\site-packages (from matplotlib->mediapipe) (2.8.2)\n",
      "Requirement already satisfied: pillow>=6.2.0 in c:\\users\\msi1\\anaconda3\\lib\\site-packages (from matplotlib->mediapipe) (8.4.0)\n"
     ]
    }
   ],
   "source": [
    "!pip install mediapipe opencv-python"
   ]
  },
  {
   "cell_type": "code",
   "execution_count": 3,
   "id": "f89dde78",
   "metadata": {},
   "outputs": [],
   "source": [
    "import cv2 as cv\n",
    "import mediapipe as mp\n",
    "import numpy as np\n",
    "mp_drawing = mp.solutions.drawing_utils\n",
    "mp_pose = mp.solutions.pose"
   ]
  },
  {
   "cell_type": "code",
   "execution_count": 4,
   "id": "cb1841e9",
   "metadata": {},
   "outputs": [],
   "source": [
    "# capturing video \n",
    "cap = cv.VideoCapture(0)\n",
    "while cap.isOpened():\n",
    "    ret, frame = cap.read()\n",
    "    cv.imshow(\"Gym Assistant\", frame)\n",
    "    \n",
    "    if cv.waitKey(10) & 0xFF == ord('q'):\n",
    "        break\n",
    "cap.release()\n",
    "cv.destroyAllWindows()"
   ]
  },
  {
   "cell_type": "code",
   "execution_count": 6,
   "id": "fd403356",
   "metadata": {},
   "outputs": [],
   "source": [
    "def calculate_angle(a,b,c):\n",
    "    a = np.array(a) \n",
    "    b = np.array(b) \n",
    "    c = np.array(c) \n",
    "    radians = np.arctan2(c[1]-b[1], c[0]-b[0]) - np.arctan2(a[1]-b[1], a[0]-b[0])\n",
    "    angle = np.abs(radians*180.0/np.pi)\n",
    "    if angle >180.0:\n",
    "        angle = 360-angle \n",
    "    return angle \n",
    "    "
   ]
  },
  {
   "cell_type": "code",
   "execution_count": 16,
   "id": "8de6584b",
   "metadata": {
    "collapsed": true
   },
   "outputs": [
    {
     "name": "stdout",
     "output_type": "stream",
     "text": [
      "1\n",
      "2\n",
      "3\n",
      "4\n",
      "5\n",
      "6\n",
      "7\n",
      "8\n",
      "9\n",
      "10\n",
      "11\n"
     ]
    }
   ],
   "source": [
    "cap = cv.VideoCapture(0)\n",
    "\n",
    "counter = 0;\n",
    "stage = None\n",
    "\n",
    "with mp_pose.Pose( min_detection_confidence =0.5 , min_tracking_confidence = 0.5) as pose:\n",
    "\n",
    "    while cap.isOpened():\n",
    "        ret, frame = cap.read()\n",
    "        \n",
    "        image = cv.cvtColor(frame ,cv.COLOR_BGR2RGB)\n",
    "        \n",
    "        results = pose.process(image)\n",
    "        \n",
    "        image = cv.cvtColor(image ,cv.COLOR_RGB2BGR)\n",
    "        \n",
    "        \n",
    "#         Extrackting Landmarks \n",
    "    \n",
    "        try:\n",
    "            landmarks = results.pose_landmarks.landmark\n",
    "        \n",
    "            shoulder = [landmarks[mp_pose.PoseLandmark.LEFT_SHOULDER.value].x, landmarks[mp_pose.PoseLandmark.LEFT_SHOULDER.value].y]\n",
    "            elbow = [landmarks[mp_pose.PoseLandmark.LEFT_ELBOW.value].x, landmarks[mp_pose.PoseLandmark.LEFT_ELBOW.value].y ]\n",
    "            wrist = [landmarks[mp_pose.PoseLandmark.LEFT_WRIST.value].x, landmarks[mp_pose.PoseLandmark.LEFT_WRIST.value].y ]\n",
    "        \n",
    "        \n",
    "            angle = calculate_angle(shoulder,elbow, wrist)\n",
    "        \n",
    "            cv.putText(image,str(angle), \n",
    "                  tuple(np.multiply(elbow, [640, 480]).astype(int)), cv.FONT_HERSHEY_SIMPLEX, 0.5, (255, 225, 255),2, cv.LINE_AA\n",
    "                  )\n",
    "            \n",
    "            \n",
    "            \n",
    "            if angle >160:\n",
    "                stage = \"down\"\n",
    "            if angle <30 and stage == \"down\":\n",
    "                stage = \"up\"\n",
    "                counter+=1\n",
    "                print(counter)\n",
    "        \n",
    "        except:\n",
    "            pass\n",
    "        \n",
    "        cv.rectangle(image, (0,0), (225,73), (245,117,16), -1)\n",
    "        \n",
    "        \n",
    "        cv.putText(image, 'CNT', (15,12), \n",
    "                    cv.FONT_HERSHEY_SIMPLEX, 0.5, (0,0,0), 1, cv.LINE_AA)\n",
    "        cv.putText(image, str(counter), \n",
    "                    (10,60), \n",
    "                    cv.FONT_HERSHEY_SIMPLEX, 2, (255,255,255), 2, cv.LINE_AA)\n",
    "        \n",
    "        \n",
    "        cv.putText(image, 'STAGE', (65,12), \n",
    "                    cv.FONT_HERSHEY_SIMPLEX, 0.5, (0,0,0), 1, cv.LINE_AA)\n",
    "        cv.putText(image, stage, \n",
    "                    (60,60), \n",
    "                    cv.FONT_HERSHEY_SIMPLEX, 2, (255,255,255), 2, cv.LINE_AA)\n",
    "        \n",
    "        \n",
    "        mp_drawing.draw_landmarks(image, results.pose_landmarks, mp_pose.POSE_CONNECTIONS,\n",
    "                                  mp_drawing.DrawingSpec(color=(255, 255, 255), thickness=2, circle_radius=5),\n",
    "                                  mp_drawing.DrawingSpec(color=(255, 0,0), thickness=3, circle_radius=5))\n",
    "        \n",
    "        \n",
    "        cv.imshow(\"Gym Assistant\", image)\n",
    "    \n",
    "        if cv.waitKey(10) & 0xFF == ord('q'):\n",
    "            break\n",
    "cap.release()\n",
    "cv.destroyAllWindows()"
   ]
  },
  {
   "cell_type": "code",
   "execution_count": null,
   "id": "2b8a9ff3",
   "metadata": {},
   "outputs": [],
   "source": []
  }
 ],
 "metadata": {
  "kernelspec": {
   "display_name": "Python 3 (ipykernel)",
   "language": "python",
   "name": "python3"
  },
  "language_info": {
   "codemirror_mode": {
    "name": "ipython",
    "version": 3
   },
   "file_extension": ".py",
   "mimetype": "text/x-python",
   "name": "python",
   "nbconvert_exporter": "python",
   "pygments_lexer": "ipython3",
   "version": "3.9.7"
  }
 },
 "nbformat": 4,
 "nbformat_minor": 5
}
